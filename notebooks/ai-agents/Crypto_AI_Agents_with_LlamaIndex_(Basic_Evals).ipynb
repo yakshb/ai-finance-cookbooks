{
  "nbformat": 4,
  "nbformat_minor": 0,
  "metadata": {
    "colab": {
      "provenance": []
    },
    "kernelspec": {
      "name": "python3",
      "display_name": "Python 3"
    },
    "language_info": {
      "name": "python"
    }
  },
  "cells": [
    {
      "cell_type": "markdown",
      "source": [
        "# Crypto Agent with Real-time News (built using Financial Modeling Prep and LlamaIndex)\n",
        "- Testing between OpenAI o3-mini and Anthropic Claude 3.5 Sonnet"
      ],
      "metadata": {
        "id": "SIMF303pPA40"
      }
    },
    {
      "cell_type": "markdown",
      "source": [
        "## 1. Process <br>\n",
        "**Crypto Analysis Agent**<br>\n",
        "\n",
        "Overview\n",
        "\n",
        "This notebook implements an intelligent crypto analysis system that combines reasoning or chat models, LlamaIndex for orchestration, and Financial Modeling Prep (FMP) API for real-time cryptocurrency data and news. The agent can perform sophisticated market analysis, sentiment evaluation, and provide trading insights using natural language queries.\n",
        "\n",
        "### Tools used:\n",
        "\n",
        "1.   OpenAI API - o3-mini. Get your OpenAI API [here](https://platform.openai.com/)\n",
        "2.   Anthropic API - Claude 3.5 Sonnet. Get your Claude API [here](https://console.anthropic.com/)\n",
        "3.   LlamaIndex for function calling orchestration\n",
        "4.   Financial Modeling Prep API for stock information and news. Get a free API key [here](https://site.financialmodelingprep.com/)\n",
        "\n"
      ],
      "metadata": {
        "id": "FztLq1IYN-6S"
      }
    },
    {
      "cell_type": "code",
      "execution_count": 1,
      "metadata": {
        "id": "H6Q2vxSTNtm2",
        "colab": {
          "base_uri": "https://localhost:8080/"
        },
        "outputId": "eebcfb27-50ee-4ad2-f884-70aa3fc7b91b"
      },
      "outputs": [
        {
          "output_type": "stream",
          "name": "stdout",
          "text": [
            "\u001b[?25l   \u001b[90m━━━━━━━━━━━━━━━━━━━━━━━━━━━━━━━━━━━━━━━━\u001b[0m \u001b[32m0.0/222.8 kB\u001b[0m \u001b[31m?\u001b[0m eta \u001b[36m-:--:--\u001b[0m\r\u001b[2K   \u001b[90m━━━━━━━━━━━━━━━━━━━━━━━━━━━━━━━━━━━━━━━━\u001b[0m \u001b[32m222.8/222.8 kB\u001b[0m \u001b[31m9.6 MB/s\u001b[0m eta \u001b[36m0:00:00\u001b[0m\n",
            "\u001b[?25h\u001b[?25l   \u001b[90m━━━━━━━━━━━━━━━━━━━━━━━━━━━━━━━━━━━━━━━━\u001b[0m \u001b[32m0.0/1.6 MB\u001b[0m \u001b[31m?\u001b[0m eta \u001b[36m-:--:--\u001b[0m\r\u001b[2K   \u001b[91m━━━━━━━━━━━━━━━━━━━━━━━━━━━━━━━━━━━━━━━\u001b[0m\u001b[91m╸\u001b[0m \u001b[32m1.6/1.6 MB\u001b[0m \u001b[31m53.8 MB/s\u001b[0m eta \u001b[36m0:00:01\u001b[0m\r\u001b[2K   \u001b[90m━━━━━━━━━━━━━━━━━━━━━━━━━━━━━━━━━━━━━━━━\u001b[0m \u001b[32m1.6/1.6 MB\u001b[0m \u001b[31m31.1 MB/s\u001b[0m eta \u001b[36m0:00:00\u001b[0m\n",
            "\u001b[2K   \u001b[90m━━━━━━━━━━━━━━━━━━━━━━━━━━━━━━━━━━━━━━━━\u001b[0m \u001b[32m139.2/139.2 kB\u001b[0m \u001b[31m8.1 MB/s\u001b[0m eta \u001b[36m0:00:00\u001b[0m\n",
            "\u001b[2K   \u001b[90m━━━━━━━━━━━━━━━━━━━━━━━━━━━━━━━━━━━━━━━━\u001b[0m \u001b[32m13.4/13.4 MB\u001b[0m \u001b[31m60.9 MB/s\u001b[0m eta \u001b[36m0:00:00\u001b[0m\n",
            "\u001b[2K   \u001b[90m━━━━━━━━━━━━━━━━━━━━━━━━━━━━━━━━━━━━━━━━\u001b[0m \u001b[32m1.2/1.2 MB\u001b[0m \u001b[31m33.7 MB/s\u001b[0m eta \u001b[36m0:00:00\u001b[0m\n",
            "\u001b[2K   \u001b[90m━━━━━━━━━━━━━━━━━━━━━━━━━━━━━━━━━━━━━━━━\u001b[0m \u001b[32m50.9/50.9 kB\u001b[0m \u001b[31m2.9 MB/s\u001b[0m eta \u001b[36m0:00:00\u001b[0m\n",
            "\u001b[2K   \u001b[90m━━━━━━━━━━━━━━━━━━━━━━━━━━━━━━━━━━━━━━━━\u001b[0m \u001b[32m84.2/84.2 kB\u001b[0m \u001b[31m4.1 MB/s\u001b[0m eta \u001b[36m0:00:00\u001b[0m\n",
            "\u001b[2K   \u001b[90m━━━━━━━━━━━━━━━━━━━━━━━━━━━━━━━━━━━━━━━━\u001b[0m \u001b[32m253.0/253.0 kB\u001b[0m \u001b[31m10.3 MB/s\u001b[0m eta \u001b[36m0:00:00\u001b[0m\n",
            "\u001b[2K   \u001b[90m━━━━━━━━━━━━━━━━━━━━━━━━━━━━━━━━━━━━━━━━\u001b[0m \u001b[32m300.7/300.7 kB\u001b[0m \u001b[31m19.7 MB/s\u001b[0m eta \u001b[36m0:00:00\u001b[0m\n",
            "\u001b[?25h"
          ]
        }
      ],
      "source": [
        "!pip install llama-index-llms-anthropic -q\n",
        "!pip install llama-index -q"
      ]
    },
    {
      "cell_type": "code",
      "source": [
        "from llama_index.llms.anthropic import Anthropic\n",
        "from llama_index.llms.openai import OpenAI\n",
        "from llama_index.core.tools import FunctionTool\n",
        "\n",
        "import nest_asyncio\n",
        "\n",
        "nest_asyncio.apply()"
      ],
      "metadata": {
        "id": "6yQb5IbMO4Cn"
      },
      "execution_count": 2,
      "outputs": []
    },
    {
      "cell_type": "markdown",
      "source": [
        "## 2. Instantiate Anthropic and News API Keys"
      ],
      "metadata": {
        "id": "6G6ka70rPdsM"
      }
    },
    {
      "cell_type": "markdown",
      "source": [
        "**API Key Configuration**\n",
        "\n",
        "Instantiate Baseline LLM to be used\n",
        "\n",
        "Store your API keys in Google Colab's user data:\n",
        "\n",
        "ANTHROPIC_API_KEY: For Claude access\n",
        "<br>FINANCIAL_MODELING_PREP_API_KEY: For market data access\n",
        "\n",
        "\n",
        "*   Experiment 1: Use Claude Sonnet for tool use, code generation and parsing\n",
        "*   Optional: Users can swap out Claude for OpenAI models to test different models and evaluate different provider outputs / save costs\n",
        "\n"
      ],
      "metadata": {
        "id": "lLHu9PiFZ6g1"
      }
    },
    {
      "cell_type": "code",
      "source": [
        "from google.colab import userdata\n",
        "\n",
        "OPENAI_API_KEY = userdata.get('OPENAI_API_KEY')\n",
        "CLAUDE_API_KEY = userdata.get('ANTHROPIC_API_KEY')\n",
        "FMP_API_KEY = userdata.get('FMP_API_KEY')"
      ],
      "metadata": {
        "id": "48SZJXP0PcOH"
      },
      "execution_count": 3,
      "outputs": []
    },
    {
      "cell_type": "code",
      "source": [
        "anthropic_llm = Anthropic(model=\"claude-3-5-sonnet-latest\", api_key=CLAUDE_API_KEY)"
      ],
      "metadata": {
        "id": "5VMm9FwrZkRO"
      },
      "execution_count": 4,
      "outputs": []
    },
    {
      "cell_type": "code",
      "source": [
        "openai_llm = OpenAI(model=\"o3-mini\", api_key=OPENAI_API_KEY)"
      ],
      "metadata": {
        "id": "J2hH7Wl4HZmH"
      },
      "execution_count": 5,
      "outputs": []
    },
    {
      "cell_type": "markdown",
      "source": [
        "## 3. Define Classes for Chaining Functions\n",
        "\n",
        "Class Structure\n",
        "\n",
        "* CryptoMetrics: Data class for storing cryptocurrency metrics\n",
        "* HistoricalPrice: Data class for historical price data\n",
        "* CryptoAnalyzer: Main class handling API interactions and data processing\n",
        "\n"
      ],
      "metadata": {
        "id": "3us-OTbpfMCF"
      }
    },
    {
      "cell_type": "code",
      "source": [
        "from dataclasses import dataclass\n",
        "from typing import Dict, List, Optional, Union, Any\n",
        "import pandas as pd\n",
        "import numpy as np\n",
        "import requests\n",
        "from datetime import datetime, timedelta\n",
        "\n",
        "from google.colab import userdata\n",
        "from llama_index.core.tools import FunctionTool\n",
        "from llama_index.core.agent import FunctionCallingAgent\n",
        "\n",
        "@dataclass\n",
        "class CryptoMetrics:\n",
        "    \"\"\"Data class to store key cryptocurrency metrics\"\"\"\n",
        "    symbol: str\n",
        "    name: str\n",
        "    price: float\n",
        "    changes_percentage: float\n",
        "    change: float\n",
        "    day_low: float\n",
        "    day_high: float\n",
        "    year_high: float\n",
        "    year_low: float\n",
        "    market_cap: float\n",
        "    moving_avg_50: float\n",
        "    moving_avg_200: float\n",
        "    volume: int\n",
        "    avg_volume: int\n",
        "    exchange: str\n",
        "    open_price: float\n",
        "    previous_close: float\n",
        "    shares_outstanding: int\n",
        "    timestamp: int\n",
        "\n",
        "@dataclass\n",
        "class HistoricalPrice:\n",
        "    \"\"\"Data class to store historical price data\"\"\"\n",
        "    date: str\n",
        "    open: float\n",
        "    high: float\n",
        "    low: float\n",
        "    close: float\n",
        "    adj_close: float\n",
        "    volume: int\n",
        "    unadjusted_volume: int\n",
        "    change: float\n",
        "    change_percent: float\n",
        "    vwap: float\n",
        "    label: str\n",
        "    change_over_time: float\n",
        "\n",
        "class CryptoAnalyzer:\n",
        "    def __init__(self):\n",
        "        \"\"\"\n",
        "        Initialize the Crypto analyzer using Google Colab userdata for API key.\n",
        "        \"\"\"\n",
        "        self.api_key = userdata.get('FMP_API_KEY')\n",
        "        if not self.api_key:\n",
        "            raise ValueError(\"FMP API key not found in Colab userdata\")\n",
        "\n",
        "        self.base_url = \"https://financialmodelingprep.com/api/v3\"\n",
        "        self.pro_url = \"https://financialmodelingprep.com/api/v4\"\n",
        "        self.df = None\n",
        "        self._fetch_data()\n",
        "\n",
        "    def _fetch_data(self) -> None:\n",
        "        \"\"\"\n",
        "        Fetch fresh cryptocurrency data from the FMP API and update the internal dataframe.\n",
        "        \"\"\"\n",
        "        url = f\"{self.base_url}/quotes/crypto?apikey={self.api_key}\"\n",
        "        try:\n",
        "            response = requests.get(url)\n",
        "            response.raise_for_status()\n",
        "            self.raw_data = response.json()\n",
        "            self.df = pd.DataFrame(self.raw_data)\n",
        "            # Convert timestamp to datetime\n",
        "            self.df['timestamp'] = pd.to_datetime(self.df['timestamp'], unit='s')\n",
        "        except requests.exceptions.RequestException as e:\n",
        "            raise Exception(f\"Failed to fetch crypto data: {str(e)}\")\n",
        "        except Exception as e:\n",
        "            raise Exception(f\"Error processing crypto data: {str(e)}\")\n",
        "\n",
        "    def refresh_data(self) -> None:\n",
        "        \"\"\"\n",
        "        Manually refresh the cryptocurrency data from the API.\n",
        "        \"\"\"\n",
        "        self._fetch_data()\n",
        "\n",
        "    def search_crypto(self, query: str) -> List[Dict]:\n",
        "        \"\"\"\n",
        "        Search for cryptocurrencies by symbol or name.\n",
        "        Returns a list of matching cryptocurrencies.\n",
        "        \"\"\"\n",
        "        if self.df is None:\n",
        "            self._fetch_data()\n",
        "\n",
        "        # Convert query and dataframe columns to lowercase for case-insensitive search\n",
        "        query = query.lower()\n",
        "        matches = self.df[\n",
        "            self.df['symbol'].str.lower().str.contains(query) |\n",
        "            self.df['name'].str.lower().str.contains(query)\n",
        "        ]\n",
        "\n",
        "        return matches.to_dict('records')\n",
        "\n",
        "    def get_crypto_metrics(self, identifier: str) -> Dict:\n",
        "        \"\"\"\n",
        "        Get detailed cryptocurrency metrics by symbol or name.\n",
        "        \"\"\"\n",
        "        try:\n",
        "            if self.df is None:\n",
        "                self._fetch_data()\n",
        "\n",
        "            # Try to find by symbol first\n",
        "            crypto_data = self.df[self.df['symbol'].str.lower() == identifier.lower()]\n",
        "\n",
        "            # If not found by symbol, try to find by name\n",
        "            if crypto_data.empty:\n",
        "                crypto_data = self.df[self.df['name'].str.lower() == identifier.lower()]\n",
        "\n",
        "            if crypto_data.empty:\n",
        "                return {\"error\": f\"No cryptocurrency found for: {identifier}\"}\n",
        "\n",
        "            crypto_data = crypto_data.iloc[0]\n",
        "\n",
        "            return {\n",
        "                \"symbol\": crypto_data['symbol'],\n",
        "                \"name\": crypto_data['name'],\n",
        "                \"price\": crypto_data['price'],\n",
        "                \"changes_percentage\": crypto_data['changesPercentage'],\n",
        "                \"change\": crypto_data['change'],\n",
        "                \"day_low\": crypto_data['dayLow'],\n",
        "                \"day_high\": crypto_data['dayHigh'],\n",
        "                \"year_high\": crypto_data['yearHigh'],\n",
        "                \"year_low\": crypto_data['yearLow'],\n",
        "                \"market_cap\": crypto_data['marketCap'],\n",
        "                \"moving_avg_50\": crypto_data['priceAvg50'],\n",
        "                \"moving_avg_200\": crypto_data['priceAvg200'],\n",
        "                \"volume\": crypto_data['volume'],\n",
        "                \"avg_volume\": crypto_data['avgVolume'],\n",
        "                \"exchange\": crypto_data['exchange'],\n",
        "                \"open_price\": crypto_data['open'],\n",
        "                \"previous_close\": crypto_data['previousClose'],\n",
        "                \"shares_outstanding\": crypto_data['sharesOutstanding'],\n",
        "                \"timestamp\": crypto_data['timestamp']\n",
        "            }\n",
        "        except Exception as e:\n",
        "            return {\"error\": f\"Failed to get crypto metrics: {str(e)}\"}\n",
        "\n",
        "    def get_historical_prices(\n",
        "        self,\n",
        "        symbol: str,\n",
        "        limit: Optional[int] = None,\n",
        "        from_date: Optional[str] = None,\n",
        "        to_date: Optional[str] = None\n",
        "    ) -> Dict:\n",
        "        \"\"\"\n",
        "        Get historical price data for a specific cryptocurrency.\n",
        "\n",
        "        Args:\n",
        "            symbol: The cryptocurrency symbol (e.g., 'BTCUSD')\n",
        "            limit: Number of historical data points to retrieve (optional)\n",
        "            from_date: Start date in 'YYYY-MM-DD' format (optional)\n",
        "            to_date: End date in 'YYYY-MM-DD' format (optional)\n",
        "\n",
        "        Returns:\n",
        "            Dictionary containing symbol and list of historical price data\n",
        "        \"\"\"\n",
        "        try:\n",
        "            # Build URL based on provided parameters\n",
        "            base_url = f\"{self.base_url}/historical-price-full/{symbol}?apikey={self.api_key}\"\n",
        "\n",
        "            # Add date range parameters if provided\n",
        "            if from_date and to_date:\n",
        "                # Validate date formats\n",
        "                try:\n",
        "                    datetime.strptime(from_date, '%Y-%m-%d')\n",
        "                    datetime.strptime(to_date, '%Y-%m-%d')\n",
        "                except ValueError:\n",
        "                    return {\"error\": \"Invalid date format. Please use YYYY-MM-DD\"}\n",
        "\n",
        "                base_url += f\"&from={from_date}&to={to_date}\"\n",
        "            elif limit:\n",
        "                base_url += f\"&limit={limit}\"\n",
        "\n",
        "            response = requests.get(base_url)\n",
        "            response.raise_for_status()\n",
        "            data = response.json()\n",
        "\n",
        "            if not data or 'historical' not in data:\n",
        "                return {\"error\": f\"No historical data found for symbol: {symbol}\"}\n",
        "\n",
        "            # Convert historical data to HistoricalPrice objects\n",
        "            historical_prices = []\n",
        "            for entry in data['historical']:\n",
        "                historical_prices.append(HistoricalPrice(\n",
        "                    date=entry['date'],\n",
        "                    open=entry['open'],\n",
        "                    high=entry['high'],\n",
        "                    low=entry['low'],\n",
        "                    close=entry['close'],\n",
        "                    adj_close=entry['adjClose'],\n",
        "                    volume=entry['volume'],\n",
        "                    unadjusted_volume=entry['unadjustedVolume'],\n",
        "                    change=entry['change'],\n",
        "                    change_percent=entry['changePercent'],\n",
        "                    vwap=entry['vwap'],\n",
        "                    label=entry['label'],\n",
        "                    change_over_time=entry['changeOverTime']\n",
        "                ))\n",
        "\n",
        "            return {\n",
        "                \"symbol\": data['symbol'],\n",
        "                \"historical\": historical_prices,\n",
        "                \"period\": {\n",
        "                    \"from\": from_date if from_date else historical_prices[-1].date,\n",
        "                    \"to\": to_date if to_date else historical_prices[0].date\n",
        "                }\n",
        "            }\n",
        "\n",
        "        except requests.exceptions.RequestException as e:\n",
        "            return {\"error\": f\"API request failed: {str(e)}\"}\n",
        "        except Exception as e:\n",
        "            return {\"error\": f\"Failed to get historical prices: {str(e)}\"}"
      ],
      "metadata": {
        "id": "UtQtjPcdZ0HQ"
      },
      "execution_count": 6,
      "outputs": []
    },
    {
      "cell_type": "markdown",
      "source": [
        "### Helper Functions for Agent Use"
      ],
      "metadata": {
        "id": "ZbV7KpfP-JM8"
      }
    },
    {
      "cell_type": "markdown",
      "source": [
        "### Core Functionality\n",
        "\n",
        "**Data Retrieval Functions**\n",
        "\n",
        "1. `get_crypto_data(symbol)`: Fetches current metrics for a cryptocurrency\n",
        "2. `get_historical_crypto_data(symbol, limit, from_date, to_date)`: Retrieves historical price data\n",
        "3. `get_crypto_news(symbol)`: Fetches recent news and press releases (FMP Pro Subscription required)\n",
        "<br>\n",
        "\n",
        "**Analysis Capabilities**\n",
        "\n",
        "* Real-time price and volume metrics\n",
        "* Historical price analysis\n",
        "* Market sentiment analysis through news\n",
        "* Comparative analysis between cryptocurrencies\n",
        "* Custom valuation frameworks"
      ],
      "metadata": {
        "id": "chJauHZDGMEc"
      }
    },
    {
      "cell_type": "markdown",
      "source": [
        "#### Retrieve Quote and Profile Info - get_crypto_data\n",
        "\n",
        "\n"
      ],
      "metadata": {
        "id": "nplYt19JrQom"
      }
    },
    {
      "cell_type": "code",
      "source": [
        "# Helper Functions for Tool Use\n",
        "def get_crypto_data(symbol: str) -> Dict:\n",
        "    \"\"\"\n",
        "    Get detailed cryptocurrency metrics including price, volume, and market data.\n",
        "    \"\"\"\n",
        "    try:\n",
        "        analyzer = CryptoAnalyzer()\n",
        "        return analyzer.get_crypto_metrics(symbol)\n",
        "    except Exception as e:\n",
        "        return {\"error\": f\"Failed to get crypto metrics: {str(e)}\"}"
      ],
      "metadata": {
        "id": "urTXsrZv-GFa"
      },
      "execution_count": 7,
      "outputs": []
    },
    {
      "cell_type": "code",
      "source": [
        "get_crypto_data(\"SOLUSD\")"
      ],
      "metadata": {
        "colab": {
          "base_uri": "https://localhost:8080/"
        },
        "id": "ygxVj2ydv5-e",
        "outputId": "21223fe2-72c1-4af9-d802-46a5edc605d2"
      },
      "execution_count": 8,
      "outputs": [
        {
          "output_type": "execute_result",
          "data": {
            "text/plain": [
              "{'symbol': 'SOLUSD',\n",
              " 'name': 'Solana USD',\n",
              " 'price': 184.01,\n",
              " 'changes_percentage': -2.35933,\n",
              " 'change': -4.44631,\n",
              " 'day_low': 181.11913,\n",
              " 'day_high': 189.45515,\n",
              " 'year_high': 294.33496,\n",
              " 'year_low': 98.58521,\n",
              " 'market_cap': 85777136219.0,\n",
              " 'moving_avg_50': 212.23822,\n",
              " 'moving_avg_200': 183.40755,\n",
              " 'volume': 3293642752.0,\n",
              " 'avg_volume': 5871799404.0,\n",
              " 'exchange': 'CRYPTO',\n",
              " 'open_price': 188.45631,\n",
              " 'previous_close': 188.45631,\n",
              " 'shares_outstanding': 466154753.650996,\n",
              " 'timestamp': Timestamp('2025-02-17 14:47:16')}"
            ]
          },
          "metadata": {},
          "execution_count": 8
        }
      ]
    },
    {
      "cell_type": "markdown",
      "source": [
        "#### Get Historical Data - get_historical_crypto_data"
      ],
      "metadata": {
        "id": "B4vDAKtEGZDf"
      }
    },
    {
      "cell_type": "code",
      "source": [
        "def get_historical_crypto_data(\n",
        "    symbol: str,\n",
        "    limit: int = 2,\n",
        "    from_date: Optional[str] = None,\n",
        "    to_date: Optional[str] = None\n",
        ") -> Dict:\n",
        "    \"\"\"\n",
        "    Get historical price data for a specific cryptocurrency.\n",
        "\n",
        "    Args:\n",
        "        symbol: The cryptocurrency symbol (e.g., 'BTCUSD')\n",
        "        limit: Number of historical data points to retrieve (optional)\n",
        "        from_date: Start date in 'YYYY-MM-DD' format (optional)\n",
        "        to_date: End date in 'YYYY-MM-DD' format (optional)\n",
        "\n",
        "    Example:\n",
        "        # Get last 30 days of data\n",
        "        btc_history = get_historical_crypto_data(\"BTCUSD\", limit=30)\n",
        "\n",
        "        # Get data for specific date range\n",
        "        btc_history = get_historical_crypto_data(\n",
        "            \"BTCUSD\",\n",
        "            from_date=\"2023-08-10\",\n",
        "            to_date=\"2023-09-10\"\n",
        "        )\n",
        "    \"\"\"\n",
        "    try:\n",
        "        analyzer = CryptoAnalyzer()\n",
        "\n",
        "        # If from_date is not provided, calculate it for the last year\n",
        "        if from_date is None:\n",
        "            today = datetime.today()\n",
        "            one_year_ago = today - timedelta(days=365)\n",
        "            from_date = one_year_ago.strftime(\"%Y-%m-%d\")\n",
        "\n",
        "        return analyzer.get_historical_prices(symbol, limit, from_date, to_date)\n",
        "    except Exception as e:\n",
        "        return {\"error\": f\"Failed to get historical prices: {str(e)}\"}"
      ],
      "metadata": {
        "id": "1ctijBfdvU2O"
      },
      "execution_count": 9,
      "outputs": []
    },
    {
      "cell_type": "code",
      "source": [
        "## Test Function\n",
        "\n",
        "get_historical_crypto_data(\"BTCUSD\", 1, \"2025-01-01\", \"2025-02-01\")"
      ],
      "metadata": {
        "colab": {
          "base_uri": "https://localhost:8080/"
        },
        "id": "6ko5CqYJBXs_",
        "outputId": "e24f2240-b7dc-4df0-fd5c-55ef736b2362"
      },
      "execution_count": 12,
      "outputs": [
        {
          "output_type": "execute_result",
          "data": {
            "text/plain": [
              "{'symbol': 'BTCUSD',\n",
              " 'historical': [HistoricalPrice(date='2025-02-01', open=102414.05, high=102781.65, low=100250, close=100623.85, adj_close=100623.85, volume=27757944848, unadjusted_volume=27757944848, change=-1790.2, change_percent=-1.748, vwap=101517.3875, label='February 01, 25', change_over_time=-0.01748),\n",
              "  HistoricalPrice(date='2025-01-31', open=104742.63, high=106090, low=101506, close=102411.26, adj_close=102411.26, volume=45732764360, unadjusted_volume=45732764360, change=-2331.37, change_percent=-2.22581, vwap=103687.4725, label='January 31, 25', change_over_time=-0.0222581),\n",
              "  HistoricalPrice(date='2025-01-30', open=103747.25, high=106484.77, low=103289.74, close=104742.64, adj_close=104742.64, volume=44309655552, unadjusted_volume=44309655552, change=995.39, change_percent=0.95944, vwap=104566.1, label='January 30, 25', change_over_time=0.0095944),\n",
              "  HistoricalPrice(date='2025-01-29', open=101290.01, high=104829.64, low=101275.6, close=103747.25, adj_close=103747.25, volume=48144691200, unadjusted_volume=48144691200, change=2457.24, change_percent=2.42595, vwap=102785.625, label='January 29, 25', change_over_time=0.0242595),\n",
              "  HistoricalPrice(date='2025-01-28', open=102063.92, high=103770.85, low=100213.8, close=101290, adj_close=101290, volume=47488491520, unadjusted_volume=47488491520, change=-773.92, change_percent=-0.75827, vwap=101834.6425, label='January 28, 25', change_over_time=-0.0075827),\n",
              "  HistoricalPrice(date='2025-01-27', open=102565.28, high=103228.46, low=97715.03, close=102062.42, adj_close=102062.42, volume=90210918400, unadjusted_volume=90210918400, change=-502.86, change_percent=-0.49028, vwap=101392.7975, label='January 27, 25', change_over_time=-0.0049028),\n",
              "  HistoricalPrice(date='2025-01-26', open=104729.92, high=105478.8, low=102452.24, close=102563, adj_close=102563, volume=22543395879, unadjusted_volume=22543395879, change=-2166.92, change_percent=-2.06906, vwap=103805.99, label='January 26, 25', change_over_time=-0.0206906),\n",
              "  HistoricalPrice(date='2025-01-25', open=104866.13, high=105294, low=104104, close=104733.56, adj_close=104733.56, volume=32733923279, unadjusted_volume=32733923279, change=-132.57, change_percent=-0.12642, vwap=104749.4225, label='January 25, 25', change_over_time=-0.0012642),\n",
              "  HistoricalPrice(date='2025-01-24', open=103926.36, high=107200, low=102751.92, close=104850.27, adj_close=104850.27, volume=66392569620, unadjusted_volume=66392569620, change=923.91, change_percent=0.889, vwap=104682.1375, label='January 24, 25', change_over_time=0.00889),\n",
              "  HistoricalPrice(date='2025-01-23', open=103659.6, high=106870.87, low=101200.01, close=103926.36, adj_close=103926.36, volume=104104515428, unadjusted_volume=104104515428, change=266.76, change_percent=0.25734, vwap=103914.21, label='January 23, 25', change_over_time=0.0025734),\n",
              "  HistoricalPrice(date='2025-01-22', open=106159.27, high=106431.34, low=103100, close=103667.11, adj_close=103667.11, volume=55981322240, unadjusted_volume=55981322240, change=-2492.16, change_percent=-2.34757, vwap=104839.43, label='January 22, 25', change_over_time=-0.0234757),\n",
              "  HistoricalPrice(date='2025-01-21', open=102145.42, high=107291.1, low=100051, close=106159.26, adj_close=106159.26, volume=99124979588, unadjusted_volume=99124979588, change=4013.84, change_percent=3.92953, vwap=103911.695, label='January 21, 25', change_over_time=0.0392953),\n",
              "  HistoricalPrice(date='2025-01-20', open=101217.78, high=109358.01, low=99416.27, close=102145.43, adj_close=102145.43, volume=150683621523, unadjusted_volume=150683621523, change=927.65, change_percent=0.91649, vwap=103034.3725, label='January 20, 25', change_over_time=0.0091649),\n",
              "  HistoricalPrice(date='2025-01-19', open=104435.01, high=106314.44, low=99518, close=101211.13, adj_close=101211.13, volume=76789928525, unadjusted_volume=76789928525, change=-3223.88, change_percent=-3.08697, vwap=102869.645, label='January 19, 25', change_over_time=-0.0308697),\n",
              "  HistoricalPrice(date='2025-01-18', open=104107, high=104933.15, low=102233.45, close=104435, adj_close=104435, volume=57619512481, unadjusted_volume=57619512481, change=328, change_percent=0.31506, vwap=103927.15, label='January 18, 25', change_over_time=0.0031506),\n",
              "  HistoricalPrice(date='2025-01-17', open=99981.46, high=105970, low=99937.81, close=104107, adj_close=104107, volume=71888972663, unadjusted_volume=71888972663, change=4125.54, change_percent=4.12631, vwap=102499.0675, label='January 17, 25', change_over_time=0.0412631),\n",
              "  HistoricalPrice(date='2025-01-16', open=100504.27, high=100880, low=97277.58, close=99981.78, adj_close=99981.78, volume=55923912103, unadjusted_volume=55923912103, change=-522.49, change_percent=-0.51987, vwap=99660.9075, label='January 16, 25', change_over_time=-0.0051987),\n",
              "  HistoricalPrice(date='2025-01-15', open=96534.97, high=100716.45, low=96400, close=100510.23, adj_close=100510.23, volume=57805923627, unadjusted_volume=57805923627, change=3975.26, change_percent=4.11795, vwap=98540.4125, label='January 15, 25', change_over_time=0.0411795),\n",
              "  HistoricalPrice(date='2025-01-14', open=94507.35, high=97353.29, low=94311.36, close=96534.96, adj_close=96534.96, volume=60788136849, unadjusted_volume=60788136849, change=2027.61, change_percent=2.14545, vwap=95676.74, label='January 14, 25', change_over_time=0.0214545),\n",
              "  HistoricalPrice(date='2025-01-13', open=94507.24, high=95900, low=89028.64, close=94506.45, adj_close=94506.45, volume=72978998252, unadjusted_volume=72978998252, change=-0.79, change_percent=-0.000835914793, vwap=93485.5825, label='January 13, 25', change_over_time=-8.35914793e-06),\n",
              "  HistoricalPrice(date='2025-01-12', open=94569.91, high=95383.84, low=93670.3, close=94509.62, adj_close=94509.62, volume=20885130965, unadjusted_volume=20885130965, change=-60.29, change_percent=-0.06375178, vwap=94533.4175, label='January 12, 25', change_over_time=-0.0006375178),\n",
              "  HistoricalPrice(date='2025-01-11', open=94701.48, high=94983.65, low=93804.05, close=94565.02, adj_close=94565.02, volume=18860894100, unadjusted_volume=18860894100, change=-136.46, change_percent=-0.14409, vwap=94513.55, label='January 11, 25', change_over_time=-0.0014409),\n",
              "  HistoricalPrice(date='2025-01-10', open=92547.44, high=95862.92, low=92209.25, close=94701.18, adj_close=94701.18, volume=65366286336, unadjusted_volume=65366286336, change=2153.74, change_percent=2.32717, vwap=93830.1975, label='January 10, 25', change_over_time=0.0232717),\n",
              "  HistoricalPrice(date='2025-01-09', open=95033.18, high=95363.26, low=91187, close=92547.44, adj_close=92547.44, volume=62777261693, unadjusted_volume=62777261693, change=-2485.74, change_percent=-2.61565, vwap=93532.72, label='January 09, 25', change_over_time=-0.0261565),\n",
              "  HistoricalPrice(date='2025-01-08', open=96941.98, high=97254.35, low=92500, close=95036.63, adj_close=95036.63, volume=69551929330, unadjusted_volume=69551929330, change=-1905.35, change_percent=-1.96545, vwap=95433.24, label='January 08, 25', change_over_time=-0.0196545),\n",
              "  HistoricalPrice(date='2025-01-07', open=102279.41, high=102735.99, low=96105.11, close=96941.98, adj_close=96941.98, volume=58685738547, unadjusted_volume=58685738547, change=-5337.43, change_percent=-5.21848, vwap=99515.6225, label='January 07, 25', change_over_time=-0.0521848),\n",
              "  HistoricalPrice(date='2025-01-06', open=98347.65, high=102500, low=97900, close=102279.41, adj_close=102279.41, volume=51823432705, unadjusted_volume=51823432705, change=3931.76, change_percent=3.99782, vwap=100256.765, label='January 06, 25', change_over_time=0.0399782),\n",
              "  HistoricalPrice(date='2025-01-05', open=98209.85, high=98814, low=97250, close=98345.33, adj_close=98345.33, volume=20525254825, unadjusted_volume=20525254825, change=135.48, change_percent=0.13795, vwap=98154.795, label='January 05, 25', change_over_time=0.0013795),\n",
              "  HistoricalPrice(date='2025-01-04', open=98139.85, high=98761.02, low=97516.65, close=98209.85, adj_close=98209.85, volume=22860099584, unadjusted_volume=22860099584, change=70, change_percent=0.07132679, vwap=98156.8425, label='January 04, 25', change_over_time=0.0007132679),\n",
              "  HistoricalPrice(date='2025-01-03', open=96905.48, high=98969.92, low=96016.63, close=98136.51, adj_close=98136.51, volume=35611391163, unadjusted_volume=35611391163, change=1231.03, change_percent=1.27034, vwap=97507.135, label='January 03, 25', change_over_time=0.0127034),\n",
              "  HistoricalPrice(date='2025-01-02', open=94383.59, high=97776.99, low=94177, close=96903.19, adj_close=96903.19, volume=46340694016, unadjusted_volume=46340694016, change=2519.6, change_percent=2.66953, vwap=95810.1925, label='January 02, 25', change_over_time=0.0266953),\n",
              "  HistoricalPrice(date='2025-01-01', open=93347.59, high=94960.91, low=92743.63, close=94383.59, adj_close=94383.59, volume=28986215672, unadjusted_volume=28986215672, change=1036, change_percent=1.10983, vwap=93858.93, label='January 01, 25', change_over_time=0.0110983)],\n",
              " 'period': {'from': '2025-01-01', 'to': '2025-02-01'}}"
            ]
          },
          "metadata": {},
          "execution_count": 12
        }
      ]
    },
    {
      "cell_type": "markdown",
      "source": [
        "#### Get Latest Crypto News - get_crypto_news (FMP Pro Version required)"
      ],
      "metadata": {
        "id": "yPAaP4_HAZGZ"
      }
    },
    {
      "cell_type": "code",
      "source": [
        "def get_crypto_news(symbol: str) -> Dict:\n",
        "    \"\"\"\n",
        "    Get recent company news and press releases.\n",
        "    \"\"\"\n",
        "    try:\n",
        "        analyzer = CryptoAnalyzer()\n",
        "        url = f\"{analyzer.pro_url}/crypto_news?symbol={symbol}&limit=5&apikey={analyzer.api_key}\"\n",
        "\n",
        "        response = requests.get(url)\n",
        "        news = response.json()\n",
        "\n",
        "        if not news:\n",
        "            return {\"error\": \"No news found\"}\n",
        "\n",
        "        formatted_news = [{\n",
        "            \"title\": item.get('title'),\n",
        "            \"date\": item.get('publishedDate'),\n",
        "            \"source\": item.get('site'),\n",
        "            \"url\": item.get('url'),\n",
        "            \"summary\": item.get('text'),\n",
        "        } for item in news]\n",
        "\n",
        "        return {\"news\": formatted_news}\n",
        "    except Exception as e:\n",
        "        return {\"error\": f\"Failed to get company news: {str(e)}\"}"
      ],
      "metadata": {
        "id": "KRHWAwnnAYiH"
      },
      "execution_count": 13,
      "outputs": []
    },
    {
      "cell_type": "code",
      "source": [
        "## Test function\n",
        "\n",
        "get_crypto_news(\"ETHUSD\")"
      ],
      "metadata": {
        "colab": {
          "base_uri": "https://localhost:8080/"
        },
        "id": "vx_F_SBIEYAS",
        "outputId": "05304c8d-b81d-4b86-8fe2-808351407bb3"
      },
      "execution_count": 14,
      "outputs": [
        {
          "output_type": "execute_result",
          "data": {
            "text/plain": [
              "{'news': [{'title': \"Burn address receives 500 ETH and cryptic ‘brain-computer weapon' message\",\n",
              "   'date': '2025-02-17T14:18:53.000Z',\n",
              "   'source': 'crypto.news',\n",
              "   'url': 'https://crypto.news/burn-address-receives-500-eth-and-cryptic-brain-computer-weapon-message/',\n",
              "   'summary': \"An unknown sender transferred 500 ETH to a burn address along with a cryptic message that accuses ‘Kuande Investment' CEOs of brain-washing employees.\"},\n",
              "  {'title': 'Crypto Price Analysis 2-17: BITCOIN: BTC, ETHEREUM: ETH, SOLANA: SOL, DOGWIFHAT: WIF, CELESTIA: TIA, ARBITRUM: ARB, OPTIMISM: OP',\n",
              "   'date': '2025-02-17T14:14:53.000Z',\n",
              "   'source': 'cryptodaily.co.uk',\n",
              "   'url': 'https://cryptodaily.co.uk/2025/02/crypto-price-analysis-2-17-bitcoin-btc-ethereum-eth-solana-sol-dogwifhat-wif-celestia-tia-arbitrum-arb-optimism-op',\n",
              "   'summary': 'Bitcoin (BTC) has started the week in the red, with the price down over 1% and trading considerably below the $97,000 level at $96,400. The flagship currency dipped to a low of $96,144 before recovering to its current level.'},\n",
              "  {'title': 'Ethereum Price Analysis: $2200 or $3000, Which Comes First for ETH?',\n",
              "   'date': '2025-02-17T14:14:12.000Z',\n",
              "   'source': 'cryptopotato.com',\n",
              "   'url': 'https://cryptopotato.com/ethereum-price-analysis-2200-or-3000-which-comes-first-for-eth/',\n",
              "   'summary': 'Following a rejection at the crucial 100-day moving average, Ethereum experienced an impulsive decline, reaching the crucial $2K support. Nevertheless, the price has bounced back and is going through a rather muted price action, indicating a potential consolidation stage.'},\n",
              "  {'title': 'BTC, ETH and XRP Price Prediction for February 17',\n",
              "   'date': '2025-02-17T14:11:00.000Z',\n",
              "   'source': 'u.today',\n",
              "   'url': 'https://u.today/btc-eth-and-xrp-price-prediction-for-february-17-0',\n",
              "   'summary': 'The market is neutral on the first day of the week, according to CoinMarketCap.'},\n",
              "  {'title': \"Vitalik Buterin Aims to Streamline Ethereum's Layer-2 Interoperability\",\n",
              "   'date': '2025-02-17T14:00:00.000Z',\n",
              "   'source': 'coinpaper.com',\n",
              "   'url': 'https://coinpaper.com/7545/vitalik-buterin-aims-to-streamline-ethereum-s-layer-2-interoperability',\n",
              "   'summary': \"Vitalik Buterin has proposed a universal light client for Ethereum's rollup-centric ecosystem, leveraging EIP-3668 to improve decentralization and efficiency.\"}]}"
            ]
          },
          "metadata": {},
          "execution_count": 14
        }
      ]
    },
    {
      "cell_type": "markdown",
      "source": [
        "### Instantiate Helper Functions\n",
        "\n",
        "---\n",
        "\n"
      ],
      "metadata": {
        "id": "yXQxaLWxNmcB"
      }
    },
    {
      "cell_type": "code",
      "source": [
        "# Create Function Tools\n",
        "## Comment out tools that are not relevant, chain different tools as needed\n",
        "\n",
        "tools = {\n",
        "    \"crypto_metrics\": FunctionTool.from_defaults(fn=get_crypto_data),\n",
        "    # \"historical_crypto_data\": FunctionTool.from_defaults(fn=get_historical_crypto_data),\n",
        "    \"crypto_news\": FunctionTool.from_defaults(fn=get_crypto_news)\n",
        "}"
      ],
      "metadata": {
        "id": "CLTpQRbI_XHA"
      },
      "execution_count": 15,
      "outputs": []
    },
    {
      "cell_type": "markdown",
      "source": [
        "## 4. Define Agent Flow"
      ],
      "metadata": {
        "id": "Ml7eBV5NQ7k4"
      }
    },
    {
      "cell_type": "markdown",
      "source": [
        "### Create an Agent\n",
        "\n",
        "> Add blockquote\n",
        "\n"
      ],
      "metadata": {
        "id": "1amt_CR_Um8Y"
      }
    },
    {
      "cell_type": "code",
      "source": [
        "# Create the Agent\n",
        "def create_crypto_agent(str):\n",
        "    \"\"\"\n",
        "    Create a comprehensive crypto analysis agent with all available tools.\n",
        "    \"\"\"\n",
        "    agent = FunctionCallingAgent.from_tools(\n",
        "        list(tools.values()),\n",
        "        llm=anthropic_llm,\n",
        "        verbose=True,\n",
        "        allow_parallel_tool_calls=False,\n",
        "    )\n",
        "    return agent"
      ],
      "metadata": {
        "id": "qfymTJpD_gDw"
      },
      "execution_count": 16,
      "outputs": []
    },
    {
      "cell_type": "code",
      "source": [
        "# Initialize the agent\n",
        "claude_crypto_agent = create_crypto_agent(anthropic_llm)"
      ],
      "metadata": {
        "id": "_ZoKr75eIP9I"
      },
      "execution_count": 17,
      "outputs": []
    },
    {
      "cell_type": "code",
      "source": [
        "# Initialize the agent\n",
        "oai_crypto_agent = create_crypto_agent(openai_llm)"
      ],
      "metadata": {
        "id": "j1WKcWT0HRYm"
      },
      "execution_count": 18,
      "outputs": []
    },
    {
      "cell_type": "markdown",
      "source": [
        "# Chat with an Agent"
      ],
      "metadata": {
        "id": "iSk1WUMAVY9c"
      }
    },
    {
      "cell_type": "markdown",
      "source": [
        "### Evaluate Different LLMs"
      ],
      "metadata": {
        "id": "nz99wCZ6IVJv"
      }
    },
    {
      "cell_type": "markdown",
      "source": [
        "#### OpenAI's o3-mini Test\n",
        "\n",
        "- Cost effective reasoning model (Chain of thought)\n",
        "- Comes with tool use and function calling support\n",
        "\n",
        "Read more here: https://openai.com/index/openai-o3-mini/"
      ],
      "metadata": {
        "id": "EwY-vlGYGs_k"
      }
    },
    {
      "cell_type": "code",
      "source": [
        "# Make queries\n",
        "response = oai_crypto_agent.chat(\"Analyze the key metrics of FETUSD\")\n",
        "print(str(response))"
      ],
      "metadata": {
        "colab": {
          "base_uri": "https://localhost:8080/"
        },
        "id": "cJBFumAH_kSF",
        "outputId": "da731d45-8905-4427-ba8b-ff39d1f6e69f"
      },
      "execution_count": 19,
      "outputs": [
        {
          "output_type": "stream",
          "name": "stdout",
          "text": [
            "> Running step 3bd8985d-42c3-4217-9f0e-5e6d43c39715. Step input: Analyze the key metrics of FETUSD\n",
            "Added user message to memory: Analyze the key metrics of FETUSD\n",
            "=== LLM Response ===\n",
            "I'll help you analyze the key metrics for FETUSD using the get_crypto_data function.\n",
            "=== Calling Function ===\n",
            "Calling function: get_crypto_data with args: {\"symbol\": \"FETUSD\"}\n",
            "=== Function Output ===\n",
            "{'symbol': 'FETUSD', 'name': 'Fetch.ai USD', 'price': 0.7989, 'changes_percentage': 2.52473, 'change': 0.01967334, 'day_low': 0.77074, 'day_high': 0.8117, 'year_high': 3.47427, 'year_low': 0.62082, 'market_cap': 653969927.0, 'moving_avg_50': 1.12481, 'moving_avg_200': 1.29666, 'volume': 108838368.0, 'avg_volume': 354972734.0, 'exchange': 'CRYPTO', 'open_price': 0.77923, 'previous_close': 0.77923, 'shares_outstanding': 818587968.0, 'timestamp': Timestamp('2025-02-17 14:51:29')}\n",
            "> Running step 29a5b15c-1896-4c28-b3d2-a248fd782b27. Step input: None\n",
            "=== LLM Response ===\n",
            "Let me break down the key metrics for Fetch.ai (FET/USD):\n",
            "\n",
            "Current Price & Daily Movement:\n",
            "- Current Price: $0.7989\n",
            "- Daily Change: +2.52% (+$0.0197)\n",
            "- Today's Range: $0.77074 (Low) - $0.8117 (High)\n",
            "\n",
            "Market Metrics:\n",
            "- Market Cap: $653.97 million\n",
            "- Volume: 108.84 million\n",
            "- Average Volume: 354.97 million (current volume is lower than average)\n",
            "\n",
            "Historical Performance:\n",
            "- 52-Week Range: $0.62082 (Low) - $3.47427 (High)\n",
            "- 50-Day Moving Average: $1.12481\n",
            "- 200-Day Moving Average: $1.29666\n",
            "\n",
            "Technical Analysis Insights:\n",
            "- The current price ($0.7989) is trading below both the 50-day and 200-day moving averages, which typically indicates a bearish trend\n",
            "- The price is closer to the yearly low than the yearly high, currently trading at about 23% of its yearly high\n",
            "- Trading volume is currently below average, suggesting lower market activity than usual\n",
            "\n",
            "Market Structure:\n",
            "- Shares Outstanding: 818.59 million\n",
            "- The token is trading on crypto exchanges\n",
            "- Opening Price: $0.77923\n",
            "\n",
            "The data suggests that FET is currently in a recovery phase for the day (+2.52%), but is still trading significantly below its moving averages and yearly high. The lower-than-average volume might indicate reduced trading interest at current levels.\n",
            "\n",
            "Would you like me to also check the recent news about FET to get more context about these price movements?\n",
            "Let me break down the key metrics for Fetch.ai (FET/USD):\n",
            "\n",
            "Current Price & Daily Movement:\n",
            "- Current Price: $0.7989\n",
            "- Daily Change: +2.52% (+$0.0197)\n",
            "- Today's Range: $0.77074 (Low) - $0.8117 (High)\n",
            "\n",
            "Market Metrics:\n",
            "- Market Cap: $653.97 million\n",
            "- Volume: 108.84 million\n",
            "- Average Volume: 354.97 million (current volume is lower than average)\n",
            "\n",
            "Historical Performance:\n",
            "- 52-Week Range: $0.62082 (Low) - $3.47427 (High)\n",
            "- 50-Day Moving Average: $1.12481\n",
            "- 200-Day Moving Average: $1.29666\n",
            "\n",
            "Technical Analysis Insights:\n",
            "- The current price ($0.7989) is trading below both the 50-day and 200-day moving averages, which typically indicates a bearish trend\n",
            "- The price is closer to the yearly low than the yearly high, currently trading at about 23% of its yearly high\n",
            "- Trading volume is currently below average, suggesting lower market activity than usual\n",
            "\n",
            "Market Structure:\n",
            "- Shares Outstanding: 818.59 million\n",
            "- The token is trading on crypto exchanges\n",
            "- Opening Price: $0.77923\n",
            "\n",
            "The data suggests that FET is currently in a recovery phase for the day (+2.52%), but is still trading significantly below its moving averages and yearly high. The lower-than-average volume might indicate reduced trading interest at current levels.\n",
            "\n",
            "Would you like me to also check the recent news about FET to get more context about these price movements?\n"
          ]
        }
      ]
    },
    {
      "cell_type": "code",
      "source": [
        "# Make queries\n",
        "response = oai_crypto_agent.chat(\"Analyze the price trends for ETHUSD and determine what's driving the price\", chat_history=[])  # Reset chat history\n",
        "print(str(response))"
      ],
      "metadata": {
        "colab": {
          "base_uri": "https://localhost:8080/"
        },
        "id": "UcJ1DZdtmQCu",
        "outputId": "645daf69-3264-47e2-906a-41a7b437291b"
      },
      "execution_count": 20,
      "outputs": [
        {
          "output_type": "stream",
          "name": "stdout",
          "text": [
            "> Running step d65e7e53-de4d-4df4-bb2e-36ca84790182. Step input: Analyze the price trends for ETHUSD and determine what's driving the price\n",
            "Added user message to memory: Analyze the price trends for ETHUSD and determine what's driving the price\n",
            "=== LLM Response ===\n",
            "I'll help you analyze ETH/USD price trends and their drivers. Let me gather both the price data and recent news that might be affecting the price.\n",
            "=== Calling Function ===\n",
            "Calling function: get_crypto_data with args: {\"symbol\": \"ETHUSD\"}\n",
            "=== Function Output ===\n",
            "{'symbol': 'ETHUSD', 'name': 'Ethereum USD', 'price': 2819.78, 'changes_percentage': 5.91808, 'change': 157.5527, 'day_low': 2650.8394, 'day_high': 2825.4, 'year_high': 4106.9556, 'year_low': 2122.5461, 'market_cap': 339215903806.0, 'moving_avg_50': 3139.2578, 'moving_avg_200': 2936.5308, 'volume': 17918881792.0, 'avg_volume': 31486209221.0, 'exchange': 'CRYPTO', 'open_price': 2662.2273, 'previous_close': 2662.2273, 'shares_outstanding': 120298712.596962, 'timestamp': Timestamp('2025-02-17 14:52:38')}\n",
            "> Running step 09f6a0f2-e8a1-4bb9-9d34-3e79b74d1a00. Step input: None\n",
            "=== LLM Response ===\n",
            "Let me also check the recent news that might be affecting ETH's price:\n",
            "=== Calling Function ===\n",
            "Calling function: get_crypto_news with args: {\"symbol\": \"ETHUSD\"}\n",
            "=== Function Output ===\n",
            "{'news': [{'title': \"Burn address receives 500 ETH and cryptic ‘brain-computer weapon' message\", 'date': '2025-02-17T14:18:53.000Z', 'source': 'crypto.news', 'url': 'https://crypto.news/burn-address-receives-500-eth-and-cryptic-brain-computer-weapon-message/', 'summary': \"An unknown sender transferred 500 ETH to a burn address along with a cryptic message that accuses ‘Kuande Investment' CEOs of brain-washing employees.\"}, {'title': 'Crypto Price Analysis 2-17: BITCOIN: BTC, ETHEREUM: ETH, SOLANA: SOL, DOGWIFHAT: WIF, CELESTIA: TIA, ARBITRUM: ARB, OPTIMISM: OP', 'date': '2025-02-17T14:14:53.000Z', 'source': 'cryptodaily.co.uk', 'url': 'https://cryptodaily.co.uk/2025/02/crypto-price-analysis-2-17-bitcoin-btc-ethereum-eth-solana-sol-dogwifhat-wif-celestia-tia-arbitrum-arb-optimism-op', 'summary': 'Bitcoin (BTC) has started the week in the red, with the price down over 1% and trading considerably below the $97,000 level at $96,400. The flagship currency dipped to a low of $96,144 before recovering to its current level.'}, {'title': 'Ethereum Price Analysis: $2200 or $3000, Which Comes First for ETH?', 'date': '2025-02-17T14:14:12.000Z', 'source': 'cryptopotato.com', 'url': 'https://cryptopotato.com/ethereum-price-analysis-2200-or-3000-which-comes-first-for-eth/', 'summary': 'Following a rejection at the crucial 100-day moving average, Ethereum experienced an impulsive decline, reaching the crucial $2K support. Nevertheless, the price has bounced back and is going through a rather muted price action, indicating a potential consolidation stage.'}, {'title': 'BTC, ETH and XRP Price Prediction for February 17', 'date': '2025-02-17T14:11:00.000Z', 'source': 'u.today', 'url': 'https://u.today/btc-eth-and-xrp-price-prediction-for-february-17-0', 'summary': 'The market is neutral on the first day of the week, according to CoinMarketCap.'}, {'title': \"Vitalik Buterin Aims to Streamline Ethereum's Layer-2 Interoperability\", 'date': '2025-02-17T14:00:00.000Z', 'source': 'coinpaper.com', 'url': 'https://coinpaper.com/7545/vitalik-buterin-aims-to-streamline-ethereum-s-layer-2-interoperability', 'summary': \"Vitalik Buterin has proposed a universal light client for Ethereum's rollup-centric ecosystem, leveraging EIP-3668 to improve decentralization and efficiency.\"}]}\n",
            "> Running step fb27e296-05d1-4483-a62b-aa6f1c041063. Step input: None\n",
            "=== LLM Response ===\n",
            "Based on the data and news, here's a comprehensive analysis of ETH/USD price trends and drivers:\n",
            "\n",
            "Current Price Status:\n",
            "- Current price: $2,819.78\n",
            "- Today's change: +$157.55 (+5.92%)\n",
            "- Trading range today: $2,650.84 - $2,825.40\n",
            "\n",
            "Technical Indicators:\n",
            "1. Moving Averages:\n",
            "- 50-day MA: $3,139.26\n",
            "- 200-day MA: $2,936.53\n",
            "- ETH is currently trading below both major moving averages, suggesting a bearish trend in the medium term\n",
            "\n",
            "Market Context:\n",
            "- Market Cap: $339.2 billion\n",
            "- Volume: $17.92 billion (below average volume of $31.49 billion)\n",
            "- Year's trading range: $2,122.55 - $4,106.96\n",
            "\n",
            "Key Price Drivers:\n",
            "\n",
            "1. Technical Developments:\n",
            "- Vitalik Buterin's recent proposal for improving Layer-2 interoperability is a significant development that could enhance Ethereum's scalability and efficiency\n",
            "- The focus on streamlining Layer-2 solutions shows continued technical progress in the ecosystem\n",
            "\n",
            "2. Market Sentiment:\n",
            "- The market is currently in a neutral state according to recent analysis\n",
            "- ETH is showing signs of consolidation after reaching the crucial $2K support level\n",
            "- There's ongoing debate in the market about whether ETH will test $2,200 or $3,000 next\n",
            "\n",
            "3. Notable Events:\n",
            "- A significant burn of 500 ETH recently occurred, which reduces supply and could be price-positive\n",
            "- The cryptocurrency is showing recovery signs after a recent rejection at the 100-day moving average\n",
            "\n",
            "4. Current Momentum:\n",
            "- Today's strong positive price action (+5.92%) suggests renewed buying interest\n",
            "- The price is approaching the upper end of today's range, showing strong momentum\n",
            "\n",
            "Short-term Outlook:\n",
            "- ETH is currently in a recovery phase after finding support around $2,000\n",
            "- The price is showing strength today but remains below key moving averages\n",
            "- The reduced trading volume suggests a need for increased participation to sustain the current upward movement\n",
            "\n",
            "The price action appears to be driven by a combination of technical developments (Layer-2 improvements), market structure (recent bounce from support),\n",
            "Based on the data and news, here's a comprehensive analysis of ETH/USD price trends and drivers:\n",
            "\n",
            "Current Price Status:\n",
            "- Current price: $2,819.78\n",
            "- Today's change: +$157.55 (+5.92%)\n",
            "- Trading range today: $2,650.84 - $2,825.40\n",
            "\n",
            "Technical Indicators:\n",
            "1. Moving Averages:\n",
            "- 50-day MA: $3,139.26\n",
            "- 200-day MA: $2,936.53\n",
            "- ETH is currently trading below both major moving averages, suggesting a bearish trend in the medium term\n",
            "\n",
            "Market Context:\n",
            "- Market Cap: $339.2 billion\n",
            "- Volume: $17.92 billion (below average volume of $31.49 billion)\n",
            "- Year's trading range: $2,122.55 - $4,106.96\n",
            "\n",
            "Key Price Drivers:\n",
            "\n",
            "1. Technical Developments:\n",
            "- Vitalik Buterin's recent proposal for improving Layer-2 interoperability is a significant development that could enhance Ethereum's scalability and efficiency\n",
            "- The focus on streamlining Layer-2 solutions shows continued technical progress in the ecosystem\n",
            "\n",
            "2. Market Sentiment:\n",
            "- The market is currently in a neutral state according to recent analysis\n",
            "- ETH is showing signs of consolidation after reaching the crucial $2K support level\n",
            "- There's ongoing debate in the market about whether ETH will test $2,200 or $3,000 next\n",
            "\n",
            "3. Notable Events:\n",
            "- A significant burn of 500 ETH recently occurred, which reduces supply and could be price-positive\n",
            "- The cryptocurrency is showing recovery signs after a recent rejection at the 100-day moving average\n",
            "\n",
            "4. Current Momentum:\n",
            "- Today's strong positive price action (+5.92%) suggests renewed buying interest\n",
            "- The price is approaching the upper end of today's range, showing strong momentum\n",
            "\n",
            "Short-term Outlook:\n",
            "- ETH is currently in a recovery phase after finding support around $2,000\n",
            "- The price is showing strength today but remains below key moving averages\n",
            "- The reduced trading volume suggests a need for increased participation to sustain the current upward movement\n",
            "\n",
            "The price action appears to be driven by a combination of technical developments (Layer-2 improvements), market structure (recent bounce from support),\n"
          ]
        }
      ]
    },
    {
      "cell_type": "markdown",
      "source": [
        "#### Anthropic Claude Sonnet 3.5 Test\n",
        "\n",
        "- Versatile and powerful Claude model\n",
        "- Observed better performance when working with structured data sets\n",
        "- Intensive token usage and cost per million token"
      ],
      "metadata": {
        "id": "tIoj2g69IcMS"
      }
    },
    {
      "cell_type": "code",
      "source": [
        "def create_crypto_agent(anthropic_llm):\n",
        "    \"\"\"\n",
        "    Create a comprehensive crypto analysis agent with all available tools.\n",
        "    \"\"\"\n",
        "    agent = FunctionCallingAgent.from_tools(\n",
        "        list(tools.values()),\n",
        "        llm=anthropic_llm,\n",
        "        verbose=True,\n",
        "        allow_parallel_tool_calls=False,\n",
        "    )\n",
        "    return agent\n",
        "\n",
        "# Initialize the agent\n",
        "crypto_agent = create_crypto_agent(anthropic_llm)"
      ],
      "metadata": {
        "id": "9d_ZatKGIkHI"
      },
      "execution_count": 21,
      "outputs": []
    },
    {
      "cell_type": "code",
      "source": [
        "response = crypto_agent.chat(\"Analyze Polygon's fundamentals and provide sentiment analysis around recent news\")\n",
        "print(str(response))"
      ],
      "metadata": {
        "id": "YOt0I91DUtdd",
        "colab": {
          "base_uri": "https://localhost:8080/"
        },
        "outputId": "b6e0add3-3fe9-4b3a-b0a2-57d14c0df717"
      },
      "execution_count": 22,
      "outputs": [
        {
          "output_type": "stream",
          "name": "stdout",
          "text": [
            "> Running step 847a373b-c7c3-48fa-8da9-a6a7942e50b9. Step input: Analyze Polygon's fundamentals and provide sentiment analysis around recent news\n",
            "Added user message to memory: Analyze Polygon's fundamentals and provide sentiment analysis around recent news\n",
            "=== LLM Response ===\n",
            "I'll help you analyze Polygon (MATIC) by getting both its fundamental data and recent news. I'll use both available tools to provide a comprehensive analysis.\n",
            "=== Calling Function ===\n",
            "Calling function: get_crypto_data with args: {\"symbol\": \"MATIC\"}\n",
            "=== Function Output ===\n",
            "{'error': 'No cryptocurrency found for: MATIC'}\n",
            "> Running step 015327cc-ebf8-44ac-ad3b-01fb0aae0011. Step input: None\n",
            "=== Calling Function ===\n",
            "Calling function: get_crypto_news with args: {\"symbol\": \"MATIC\"}\n",
            "=== Function Output ===\n",
            "{'news': [{'title': 'MATIC Set For Uptick: Analyst Eyes $1.30 In the Coming Weeks', 'date': '2024-05-20T15:39:37.000Z', 'source': 'https://tronweekly.com', 'url': 'https://www.tronweekly.com/matic-set-for-uptick-analyst-eyes-1-30/', 'summary': 'Polygon (MATIC) is set up for massive upward price action and has caught the eye of analysts and investors. Over the last week, MATIC has grown by almost 5%. In addition, the token is trading in an approximate horizontal channel within the medium-to-long term. The apparent result is investor indecision and a wait-and-see mode for clearer direction signals. But a a breakout from this channel would be bullish and indicate gains, and breaking the same would be bearish. The currency is currently testing resistance at the $0.72 level. Historically, trading volumes have been on the higher side for price peaks and lower with respect to price troughs, supporting strength in the currency and suggesting a break out to the upside is more likely. Polygon is trading at $0.711488 at the time of writing. The cryptocurrency has been trading at a volume of $415.27 million over the last 24 hours in circulation and currently stands at a market cap of $5.70 billion. Over the past day, the token has added about 0.19% in value to its price. Analyst Eyes $1.30 For MATIC In the Coming Weeks In a recent update, renowned crypto analyst World Of Charts expressed optimism regarding the future price performance of MATIC. The analyst pointed out a significant development in MATIC’s price action, indicating a potential solid recovery towards $1.30 in the coming weeks. The breakthrough moment arrived as MATIC successfully exited a descending channel consolidation, a pattern that has been constraining its price movement. This event has sparked enthusiasm among investors and analysts alike, signaling a shift in sentiment towards the cryptocurrency. Analyst Jonathan Carter also commented on MATIC’s price action, unveiling a precedent in market behavior that has been persisting for more than two years. The token has been within this massive triangle pattern, which analysts have read as an accumulation zone. This pattern implies investors have slowly added to their bags of MATIC tokens in the hopes of a bullish breakout. Carter said patience was key when dealing with MATIC’s price actions and added that breakouts from such patterns may take time to materialize. Nevertheless, he remained optimistic about the cryptocurrency over the long run and indicated it could record significant gains once the breakout happened. Related Reading | Solana (SOL) Surges 7% After Inverse Head And Shoulders Neckline Breakout: Report'}, {'title': 'Analyst Known for Accurate Market Predictions Reveals 3 Cryptocurrencies He’s Bullish on in the 2024 Bull Run', 'date': '2024-05-20T10:45:00.000Z', 'source': 'https://thenewscrypto.com', 'url': 'https://thenewscrypto.com/analyst-known-for-accurate-market-predictions-reveals-3-cryptocurrencies-hes-bullish-on-in-the-2024-bull-run/', 'summary': 'The cryptocurrency market is notorious for its volatility, with prices capable of significant pumps and dumps within short periods. Amid this environment, bull runs—periods of sustained price increases and heightened market confidence—offer lucrative opportunities for investors. One analyst, renowned for his accurate market predictions, has recently highlighted three cryptocurrencies he is bullish on for the 2024 bull run: Polkadot (DOT), Polygon (MATIC), and Retik Finance (RETIK). This article delves into the reasons behind his bullish stance on these three coins, exploring their fundamentals, recent developments, and potential for substantial gains. Understanding the 2024 Bull Run A bull run in the cryptocurrency market is a period marked by a continuous increase in asset prices, driven by rising investor confidence and inflows of new capital. During such times, the demand for cryptocurrencies increases, often leading to substantial price surges. This environment not only benefits investors with significant returns but also accelerates the development and adoption of various projects within the crypto space. The anticipated 2024 bull run is expected to follow these trends, presenting a prime opportunity for strategic investments. Polkadot (DOT): Bridging Blockchain Networks Polkadot (DOT) is well-positioned to excel in the 2024 bull run due to its strong fundamentals and expanding adoption. With a current market capitalization of $12 billion and a circulating supply of 987 million tokens, DOT is primed for significant price appreciation. Polkadot&#8217;s unique interoperability protocol allows different blockchain networks to communicate and share data, a feature that is increasingly valuable as the decentralized finance (DeFi) market grows. Given these factors, the analyst predicts that Polkadot&#8217;s price could surge to 20 times its current value, reaching approximately $145 from its present price of $7.25. This optimistic forecast is grounded in Polkadot&#8217;s role as a critical bridge in the blockchain ecosystem, its expanding user base, and the increasing number of projects leveraging its interoperability features. Polygon (MATIC): Scaling Ethereum&#8217;s Ecosystem Over the past year, Polygon&#8217;s price has surged over 200%, showcasing its resilience and potential for further appreciation. The platform&#8217;s development activity has also been on the rise, with a notable 30% increase in GitHub commits over the past quarter. This uptick in development signals ongoing innovation and improvements, bolstering Polygon&#8217;s position in the market. Polygon&#8217;s scalability solutions and growing adoption in the DeFi and NFT spaces position it for substantial gains. As more projects seek to leverage its efficient and low-cost infrastructure, Polygon&#8217;s ecosystem continues to expand. The analyst projects that Polygon&#8217;s price could achieve a 30x return on investment, potentially reaching $21.27 from its current trading price of $0.7089. Retik Finance (RETIK): Disrupting the DeFi Space Retik Finance (RETIK) has quickly captured the attention of savvy investors, experiencing remarkable growth from $0.030 to $0.12 in a short period. The excitement around Retik Finance (RETIK) is set to peak with its upcoming exchange listing on May 21, 2024, at a listing price of $0.15 on Uniswap and other major exchanges. Unlike many projects that replicate existing DeFi protocols, Retik Finance seeks to disrupt the market with practical solutions and tangible benefits for users. Its innovative approach has garnered a strong following and a robust community, setting the stage for significant price appreciation upon its exchange listing The analyst predicts that Retik Finance (RETIK) could see its price skyrocket to $7.50 from the listing price of $0.15, representing a 50x rise. This optimistic outlook is based on Retik Finance&#8217;s unique value proposition, market excitement, and the upcoming listing event, which is expected to drive significant demand for the token. Conclusion The anticipated 2024 bull run in the cryptocurrency market is expected to bring significant opportunities for investors. Polkadot (DOT), Polygon (MATIC), and Retik Finance (RETIK) are three cryptocurrencies that an analyst, known for his accurate market predictions, has identified as poised for substantial gains. Polkadot&#8217;s interoperability and expanding ecosystem, Polygon&#8217;s scalability solutions and growth in DeFi and NFTs, and Retik Finance&#8217;s innovative approach to disrupting the DeFi space with its anticipated launch position these coins for remarkable appreciation. As the market enters this bullish phase, strategic investments in these projects could yield substantial returns for informed and agile investors. Visit the links below for more information about Retik Finance (RETIK): Website: https://retik.com Whitepaper: https://retik.com/retik-whitepaper.pdf Twitter: www.twitter.com/retikfinance Telegram: www.t.me/retikfinance Disclaimer: TheNewsCrypto does not endorse any content on this page. The content depicted in this article does not represent any investment advice. TheNewsCrypto recommends our readers to make decisions based on their own research. TheNewsCrypto is not accountable for any damage or loss related to content, products, or services stated in this article.'}]}\n",
            "> Running step 30222d76-da5e-49b7-b3bb-9e7c17a77120. Step input: None\n",
            "=== LLM Response ===\n",
            "Let me provide a comprehensive analysis based on the news data we received for Polygon (MATIC):\n",
            "\n",
            "Recent News Sentiment Analysis:\n",
            "\n",
            "1. Price Movement and Technical Analysis:\n",
            "- MATIC has shown positive momentum with a 5% growth over the last week\n",
            "- Currently trading around $0.71\n",
            "- Market cap stands at approximately $5.70 billion\n",
            "- 24-hour trading volume of about $415.27 million\n",
            "\n",
            "2. Technical Outlook:\n",
            "- Currently trading in a horizontal channel\n",
            "- Testing resistance at $0.72 level\n",
            "- Higher trading volumes during price peaks suggest underlying strength\n",
            "- Recently broke out of a descending channel consolidation\n",
            "\n",
            "3. Analyst Predictions and Sentiment:\n",
            "- Highly positive analyst sentiment with multiple bullish predictions\n",
            "- World Of Charts analyst predicts potential recovery towards $1.30 in the coming weeks\n",
            "- Analysts identify a long-term triangle pattern suggesting an accumulation phase\n",
            "- MATIC is being highlighted as one of the top cryptocurrencies for the 2024 bull run\n",
            "\n",
            "4. Development and Ecosystem:\n",
            "- Strong fundamental growth with 30% increase in GitHub commits over the past quarter\n",
            "- Growing adoption in DeFi and NFT spaces\n",
            "- Platform continues to expand its ecosystem\n",
            "- Some analysts project potential for 30x returns, suggesting a possible price target of $21.27 (long-term)\n",
            "\n",
            "Overall Sentiment Analysis:\n",
            "The overall sentiment around Polygon (MATIC) is predominantly bullish, with multiple positive indicators:\n",
            "- Technical breakout from descending channel\n",
            "- Strong development activity\n",
            "- Institutional and analyst confidence\n",
            "- Growing ecosystem adoption\n",
            "- Positive price momentum\n",
            "\n",
            "Risk Factors to Consider:\n",
            "- Currently in a period of consolidation\n",
            "- Market indecision in the short term\n",
            "- Broader market conditions could impact performance\n",
            "\n",
            "The news sentiment suggests that MATIC is positioned favorably for both short-term and long-term growth, with strong fundamental development backing the technical indicators. The combination of increased development activity, ecosystem growth, and positive technical breakouts provides a solid foundation for potential price appreciation.\n",
            "Let me provide a comprehensive analysis based on the news data we received for Polygon (MATIC):\n",
            "\n",
            "Recent News Sentiment Analysis:\n",
            "\n",
            "1. Price Movement and Technical Analysis:\n",
            "- MATIC has shown positive momentum with a 5% growth over the last week\n",
            "- Currently trading around $0.71\n",
            "- Market cap stands at approximately $5.70 billion\n",
            "- 24-hour trading volume of about $415.27 million\n",
            "\n",
            "2. Technical Outlook:\n",
            "- Currently trading in a horizontal channel\n",
            "- Testing resistance at $0.72 level\n",
            "- Higher trading volumes during price peaks suggest underlying strength\n",
            "- Recently broke out of a descending channel consolidation\n",
            "\n",
            "3. Analyst Predictions and Sentiment:\n",
            "- Highly positive analyst sentiment with multiple bullish predictions\n",
            "- World Of Charts analyst predicts potential recovery towards $1.30 in the coming weeks\n",
            "- Analysts identify a long-term triangle pattern suggesting an accumulation phase\n",
            "- MATIC is being highlighted as one of the top cryptocurrencies for the 2024 bull run\n",
            "\n",
            "4. Development and Ecosystem:\n",
            "- Strong fundamental growth with 30% increase in GitHub commits over the past quarter\n",
            "- Growing adoption in DeFi and NFT spaces\n",
            "- Platform continues to expand its ecosystem\n",
            "- Some analysts project potential for 30x returns, suggesting a possible price target of $21.27 (long-term)\n",
            "\n",
            "Overall Sentiment Analysis:\n",
            "The overall sentiment around Polygon (MATIC) is predominantly bullish, with multiple positive indicators:\n",
            "- Technical breakout from descending channel\n",
            "- Strong development activity\n",
            "- Institutional and analyst confidence\n",
            "- Growing ecosystem adoption\n",
            "- Positive price momentum\n",
            "\n",
            "Risk Factors to Consider:\n",
            "- Currently in a period of consolidation\n",
            "- Market indecision in the short term\n",
            "- Broader market conditions could impact performance\n",
            "\n",
            "The news sentiment suggests that MATIC is positioned favorably for both short-term and long-term growth, with strong fundamental development backing the technical indicators. The combination of increased development activity, ecosystem growth, and positive technical breakouts provides a solid foundation for potential price appreciation.\n"
          ]
        }
      ]
    },
    {
      "cell_type": "code",
      "source": [
        "query= \"Act like a value investor (such as Warren Buffett or Charlie Munger) and assess the financial health of Shibu Ina Coin\"\n",
        "response = crypto_agent.chat(query)\n",
        "print(str(response))"
      ],
      "metadata": {
        "colab": {
          "base_uri": "https://localhost:8080/"
        },
        "id": "cKJkJ0Zw1MRU",
        "outputId": "b60e8279-ec91-488c-8a5f-92dc77128c62"
      },
      "execution_count": null,
      "outputs": [
        {
          "output_type": "stream",
          "name": "stdout",
          "text": [
            "> Running step 876da26b-7f2a-4cce-bbca-9bd1d5f8c4aa. Step input: Act like a value investor (such as Warren Buffett or Charlie Munger) and assess the financial health of Shibu Ina Coin\n",
            "Added user message to memory: Act like a value investor (such as Warren Buffett or Charlie Munger) and assess the financial health of Shibu Ina Coin\n",
            "=== LLM Response ===\n",
            "I'll analyze Shiba Inu (SHIB) from a value investing perspective, focusing on fundamentals and intrinsic value as Warren Buffett and Charlie Munger would.\n",
            "=== Calling Function ===\n",
            "Calling function: get_crypto_data with args: {\"symbol\": \"SHIB\"}\n",
            "=== Function Output ===\n",
            "{'error': 'No cryptocurrency found for: SHIB'}\n",
            "> Running step 80cbf0c0-da25-4297-8267-975c337b2c20. Step input: None\n",
            "=== Calling Function ===\n",
            "Calling function: get_crypto_news with args: {\"symbol\": \"SHIB\"}\n",
            "=== Function Output ===\n",
            "{'news': [{'title': 'Shiba Inu’s Insane $0.001 Price Prediction: Will It Create a New Wave of Millionaires?', 'date': '2024-05-20T17:47:22.000Z', 'source': 'https://crypto-news-flash.com', 'url': 'https://www.crypto-news-flash.com/shiba-inus-insane-0-001-price-prediction-will-it-create-a-new-wave-of-millionaires/', 'summary': 'Shiba Inu has seen significant gains and losses, with a 120% increase in 2024, sparking discussions about its potential to reach $0.001. SHIB saw 82 large transactions totaling 1.7 trillion SHIB in the past 24 hours, but trading volume is low. Shiba Inu, the meme-inspired cryptocurrency, has garnered significant attention in the crypto market. After experiencing a tumultuous ride in 2021, marked by an astronomical surge followed by a steep decline, Shiba Inu is now making strides towards reclaiming its position in the market. In 2024, the token has witnessed a resurgence, with its value surging by 120%, outperforming major cryptocurrencies like Bitcoin. This prompts investors to ponder whether Shiba Inu can ascend to the coveted $0.001 mark from its current valuation of $0.0000248. Despite its recent performance, Shiba Inu faces hurdles to mainstream adoption. One of the primary obstacles lies in its limited utility in real-world transactions. Data reveals that only 933 merchants accept Shiba Inu, underscoring its struggle to gain traction compared to more established cryptocurrencies. Although initiatives like Shibarium aim to enhance transaction efficiency through a Layer-2 blockchain solution, widespread acceptance remains elusive. Shiba Inu&#8217;s meteoric rise in 2021 was fueled by speculation, with investors banking on its exponential growth. However, the subsequent crash highlighted the risks associated with speculative investments. Whale Transactions and Market Activity In the past 24 hours, Shiba Inu has recorded 82 large transactions, totaling a significant 1.7 trillion SHIB tokens. While these transactions may seem substantial initially, further analysis reveals a lack of consistent buying interest. Transaction volume has dipped to $40.48 million, considerably lower than the recent seven-day high of $223.76 million. This decline in trading activity suggests a potential consolidation phase for SHIB. Despite the promising increase in burn rate, SHIB&#8217;s price has experienced notable fluctuations in recent trading sessions. Currently trading at $0.00002401, the token has seen a decline of 2.44%. With a market capitalization of $14.16B, Shiba Inu holds the 11th position among cryptocurrencies by market cap. The 24-hour trading volume has surged by 16.51%, reaching $374.56. This uptick in trading volume indicates robust market activity and heightened investor interest in SHIB. Mixed sentiments prevail in the market, as evidenced by the conflicting data on derivatives volume and open interest (OI). While derivatives volume surged by 21.61%, SHIB&#8217;s OI experienced an 8.13% decline. This disparity suggests increased trading activity accompanied by reduced money inflow, contributing to SHIB&#8217;s current market volatility. Bullish Signs on the Charts Market analysts have identified a bullish pennant pattern on the Shiba Inu chart, indicating the potential for significant profits. This pattern suggests that SHIB might resume its upward climb following a consolidation period. Analysts foresee potential profits of over 62% in the near future. Clifton, a prominent Bitcoin analyst, has highlighted the formation of a bullish pennant on Shiba Inu’s 24-hour timeframe. According to Clifton, this pattern suggests that SHIB could soon experience a breakout, potentially yielding holders a short-term profit of up to 60%. $SHIB (Update) Bullish Pennant Formation in Daily Timeframe&#8230; In Case of Upside Breakout We Can See 50 &#8211; 60% Bullish Rally#SHIBUSDT #SHIB #Crypto pic.twitter.com/XRTtPDnjRr &mdash; Clifton Fx (@clifton_ideas) May 19, 2024'}, {'title': 'Shiba Inu Price Set for Surge: Analysts Predict 50%-60% Rally', 'date': '2024-05-20T16:30:00.000Z', 'source': 'https://tronweekly.com', 'url': 'https://www.tronweekly.com/shiba-inu-price-surge-analysts-predict-50-60/', 'summary': 'Shiba Inu (SHIB), the famous meme-based cryptocurrency, is gearing up for a massive value pump. Just now, SHIB has managed to hold the waves above its support and is recovering from $0.00002159. The challenging task for SHIB remains to conquer the critical resistance level, oscillating around $0.000025. However, a decisive move above this resistance could pave the way for a substantial price rally. Shiba Inu prices traded at $0.00002395 at press time, accounting for a 24-hour trading volume of $264.84 million and a market capitalization of $14.11 billion. The SHIB price has gone down by 4.28% over the last 24 hours but has gained a positive pace in the last week to surge above 10%. Analyst Predicts Shiba Inu 50%-60% Price Surge Crypto analyst Clifton FX recently shared a bullish outlook on Shiba Inu’s future price movements, highlighting a promising technical pattern. According to Clifton, the $SHIB token is forming a bullish pennant on the daily timeframe. In addition, a bullish pennant is a continuation pattern that typically indicates a period of consolidation before a breakout in the direction of the prevailing trend. Clifton FX suggests that if SHIB breaks out from this pattern to the upside, it could trigger a significant rally, potentially increasing the token’s value by 50-60%. Moreove\\xadr, Changelly has provided its latest pre\\xaddiction for Shiba Inu’s price, mirroring the optimistic view of Clifton FX. Change\\xadlly anticipates that by May 21, 2024, SHIB will rise by 15.08%, arriving at a price of $0.00002755. This proje\\xadction is backed by multiple technical tools that Change\\xadlly utilizes to gauge market se\\xadntiment and price trends. Changelly Technical Analysis Indicators point at a 55% status of neutral bullish with regard to Shiba Inu. As much as the indicators are not over-optimistic, market sentiment keeps a little positive bias. Besides, the Fear & Greed Index records around 72 points, corresponding to the “Greed.” Often, high scores of Greed indicate that investors become more confident and willing to take risks in an advancing market environment, typically pushing prices higher. Related Reading | Ethereum Poised For Major Breakout as Analysts Eye $4,600 Target'}, {'title': 'Dogecoin, Shiba Inu, and Bonk See Gains: DOGE Accumulation, SHIB Updates, BONK Listing Fuel Rally', 'date': '2024-05-20T15:23:12.000Z', 'source': 'https://crypto-news-flash.com', 'url': 'https://www.crypto-news-flash.com/dogecoin-shiba-inu-and-bonk-see-gains-doge-accumulation-shib-updates-bonk-listing-fuel-rally/', 'summary': 'Dogecoin sees significant accumulation by holders possessing between 1 million and 10 million tokens, indicating growing interest and confidence in the coin. Similarly, Shiba Inu and Bonk experience rallies are driven by developments like ShibaSwap&#8217;s launch and Bonk&#8217;s listing on a Korean exchange. Amid the GameStop frenzy, the cryptocurrency meme coin sector has benefitted the most with most of the meme coins registering skyrocketing gains this week. In the past 24 hours, three of the top ten meme coins &#8211; Dogecoin (DOGE), Shiba Inu (SHIB), Bonk (BONK) &#8211; have extended further gains. However, it&#8217;s not the GameStop rally that&#8217;s impacting the surge in these three meme coins. There have been several other contributing factors to this. Major Dogecoin (DOGE) Accumulation In May According to data from crypto intelligence tracker Santiment, Dogecoin, the leading meme coin by market capitalization, has witnessed accumulation by entities possessing between 1 million and 10 million tokens. Over the period from May 1 to May 16, holders increased their DOGE holdings by 30 million tokens. Courtesy: Santiment Another popular crypto analyst Kaleo noted that during the 2021 GameStop rally, the Dogecoin price started rallying soon after the GME stock price topped. A similar situation could turn out this time as well, noted the analyst. Kaleo further stated that Dogecoin is overdue for a good pump. https://x.com/CryptoKaleo/status/1790872217535819969 On the other hand, the Dogecoin (DOGE) ecosystem is getting its own Layer-2 solution in the form of the Laïka project, per the Crypto News Flash report. The aim is to transform the Dogecoin ecosystem by integrating smart contract capabilities, enhancing transaction speeds, reducing fees, and facilitating seamless interaction with other blockchain networks. Shiba Inu and BONK Rally Shiba Inu has launched its decentralized exchange, ShibaSwap, on its Layer 2 chain, enhancing liquidity and user experience for SHIB holders, per the Crypto News Flash report. The DEX facilitates swaps and liquidity pool creation for tokens, offering seamless transfers between the Ethereum and Shiba Inu chains. As of Thursday, SHIB is trading at $0.0000247 on Binance, showing a decline of nearly 2%. https://x.com/Shibtoken/status/1790792311942643804 In other news, Bonk has been listed on the Korean crypto exchange Bithumb on May 16. Following the listing announcement, BONK surged to a 10-day high of $0.00002648. The meme coin surpassed resistance at $0.00002552 on Thursday. According to data from crypto intelligence tracker Santiment, the trade volume of Bonk has surpassed $384 million, marking a 10-day high for the meme coin. This surge in trading activity follows the token&#8217;s recent listing on a leading cryptocurrency exchange, as traders eagerly react to the news. Bonk&#8217;s listing on a prominent exchange has heightened investor interest and contributed to increased liquidity in the market. The significant uptick in trade volume underscores the growing popularity of Bonk within the cryptocurrency community.'}, {'title': 'Shiba Inu Trading Goes Live on This British Virgin Islands Exchange&nbsp;', 'date': '2024-05-20T14:41:11.000Z', 'source': 'https://thecryptobasic.com', 'url': 'https://thecryptobasic.com/2024/05/20/shiba-inu-trading-goes-live-on-this-british-virgin-islands-exchange/', 'summary': 'Backpack, a British Virgin Islands-regulated crypto exchange and wallet provider, says Shiba Inu (SHIB) trading is now live on its platform. The exchange made the announcement in a tweet today, stating that trading for the canine-themed token has gone live. Notably, Backpack paired Shiba Inu against Circle stablecoin (USDC), as trading commenced today at exactly 10:00 AM (UTC). Although Shiba Inu trading has commenced on Backpack, the exchange did not disclose whether it has enabled deposit and withdrawal services for SHIB. Backpack Exchange Offering Launched in 2023, Backpack is a next-gen exchange that allows users to buy and sell crypto assets, including Bitcoin (BTC), Ether (ETH), Solana (SOL), and dogwifhat (WIF), among others. The exchange is registered in the British Virgin Islands and operates in different parts of the world, including Africa and Europe. With Shiba Inu trading now live on Backpack today, the exchange now supports 25 crypto assets. All supported crypto assets are paired against USDC. Backpack boasts a 24-hour trading volume of $27,885,596 ($27.88 million), marking a daily surge of 58%. The most active trading pair on the exchange is SHFL/USDC, which has registered a 24-hour volume of $18.06 million. Since Shiba Inu went live on Backpack, users have only traded $59.51 worth of SHIB on the platform. Shiba Inu’s volume on Backpack is not enough to impact the price of SHIB. The token was trading at $0.00002407 in the hours leading up to press time, representing a 24-hour decline of 0.35%. Shiba Inu Listing on Exchanges Soars The listing has further expanded Shiba Inu’s availability to more crypto enthusiasts. Before Shiba Inu’s listing on Backpack, several crypto exchanges recently rolled out support for the token. Binance Japan is included in the list of exchanges that recently listed SHIB. At the time of the listing, Shiba Inu witnessed a momentary surge of 360%, with SHIB’s price hitting $0.00011 on Binance Japan. Last month, Nexo finally listed SHIB after ignoring the demands of Shiba Inu community members. The exchange further affirmed SHIB’s listing by releasing an educational piece focusing on the token. More exchanges are expected to list Shiba Inu as the asset continues to gain prominence.'}, {'title': 'Top Crypto Investors Selling Shiba Inu (SHIB) and Bitcoin Cash (BCH) To Accumulate This New Altcoin', 'date': '2024-05-20T12:30:18.000Z', 'source': 'https://crypto-news-flash.com', 'url': 'https://www.crypto-news-flash.com/top-crypto-investors-selling-shiba-inu-shib-and-bitcoin-cash-bch-to-accumulate-this-new-altcoin/', 'summary': 'While the cryptocurrency market remains in a heightened state of frenzy, top traders and crypto enthusiasts are frantically searching for the next crypto coin with potential for explosive growth. With the emergence of Rollblock (RBLK), a new altcoin laden with impressive features, crypto whales are selling off their Shiba Inu (SHIB) and Bitcoin Cash (BCH) to accumulate this new altcoin. Shiba Inu Token Succumbs To Bear Market Despite 180% Yearly Surge Although starting as a dog-inspired meme, the Shiba Inu (SHIB) token rose to immense heights, surpassing expectations and rewarding its buyers with incredible profits. With a market cap of over $14.5B, Shiba Inu intends to dominate the meme coin industry and the altcoin market. After witnessing a surge of over 180% in the last year, traders and crypto enthusiasts have trooped to the Shiba Inu’s SHIB network, looking for opportunities to cash out. Although the Shiba Inu price is only just recovering from the recent market downturn, the token has shown promise with analysts remaining highly optimistic for Shiba Inu’s (SHIB) growth. Bitcoin Cash (BCH) Token Scalability-Centered Approach Ranks It Among Top Altcoin Project Aside from its numerous features, Bitcoin Cash (BCH) has stood out for its impressive performance in the altcoin market. In the last year, the token has witnessed a surge of over 280%, drawing the attention of traders and crypto enthusiasts in the market. Bitcoin Cash (BCH) network is particularly known for its scalability features, as it prioritizes the quick and effective execution of transactions. While its native BCH token has witnessed massive adoption across the altcoin market, it further boasts a market cap of over $9B, cementing its Bitcoin Cash (BCH) among top altcoins to buy this year. Rollblock (RBLK) Leverages Blockchain Technology To Boost Customer Loyalty Rollblock (RBLK) has continued to make headlines since its emergence into the altcoin market. Its innovative technology has spurred it to excellence, attracting widespread attention especially from the blockchain gaming market. With its focus on the online gambling industry, Rollblock aims to fill the gap between the decentralized finance market and the casino world, eliminating issues regarding gambling and staking. Aiming to redefine traditional gambling methods, Rollblock leverages blockchain technology to provide solutions within the casino world. Its innovative technology focuses on customer loyalty, an important value in the gambling industry. Through its innovative platform, users can experience quick and secure transactions without the fear of losing assets. In its commitment to empower its users and token holders, Rollblock employs its profit-sharing mechanism which disburses up to 30% of the platform’s revenue to users on a weekly basis. This revenue share model features a token burn which sees 50% of the circulating supply eliminated, while the other 50% is used for staking rewards. Furthermore, Rollblock adopts a non-KYC requirement protocol which removes the hassle of registration on the platform. While the token is currently in its second presale stage, the RBLK token has witnessed an increase in price with the token selling for a current $0.012. With traders and enthusiasts currently accumulating the token at a massive rate, analysts are touting it to rise to become one of the top altcoins to buy. With Rollblock’s Current Trajectory, Can It Go As High As Shiba Inu and Bitcoin Cash Tokens? While Rollblock continues to record milestones and surpass expectations, analysts are projecting a huge surge in the coming months. Furthermore, with traders and crypto enthusiasts trooping en masse to the token’s network, analysts and market experts are expecting Rollblock to be a top cryptocurrency in the altcoin market, perhaps surpassing the likes of Shiba Inu and Bitcoin Cash. Discover the Exciting Opportunities of the Rollblock (RBLK) Presale Today! Website: https://presale.rollblock.io/ Socials: https://linktr.ee/rollblockcasino'}]}\n",
            "> Running step ca776894-3538-40dd-9e0f-729c30daebf6. Step input: None\n",
            "=== LLM Response ===\n",
            "Speaking as a value investor in the tradition of Warren Buffett and Charlie Munger, I must express serious concerns about Shiba Inu Coin from a fundamental value perspective. Let me break this down using the core principles of value investing:\n",
            "\n",
            "1. Intrinsic Value Assessment:\n",
            "As Buffett often says, \"Price is what you pay, value is what you get.\" Looking at SHIB:\n",
            "- No tangible underlying assets\n",
            "- No cash flow generation\n",
            "- No productive capacity\n",
            "- Value primarily derived from speculation and market sentiment\n",
            "- No \"moat\" or sustainable competitive advantage\n",
            "\n",
            "2. Business Fundamentals:\n",
            "Current metrics from the news:\n",
            "- Market Cap: Approximately $14.16 billion\n",
            "- Limited real-world utility (only 933 merchants accept it)\n",
            "- No earnings or revenue in the traditional sense\n",
            "- No productive assets\n",
            "\n",
            "3. Margin of Safety (A key Buffett principle):\n",
            "There appears to be no margin of safety because:\n",
            "- Price is purely speculative\n",
            "- No underlying business operations to support valuation\n",
            "- No book value to fall back on\n",
            "- No earnings floor\n",
            "\n",
            "4. Competitive Analysis (Munger's emphasis on business quality):\n",
            "Major concerns:\n",
            "- Easily replicable (thousands of similar tokens exist)\n",
            "- No sustainable competitive advantage\n",
            "- No barriers to entry\n",
            "- No proprietary technology or unique value proposition\n",
            "\n",
            "5. Management and Capital Allocation:\n",
            "- No traditional management structure\n",
            "- No clear capital allocation strategy\n",
            "- No reinvestment of earnings (as there are no earnings)\n",
            "\n",
            "6. Recent Market Activity (though as value investors, we don't emphasize short-term movements):\n",
            "- 120% increase in 2024\n",
            "- Current trading around $0.000024\n",
            "- High volatility and speculation-driven price movements\n",
            "- Low trading volume ($40.48 million) suggesting thin market\n",
            "\n",
            "Key Red Flags (as Munger would point out):\n",
            "1. Speculation-Based Value: The asset's worth is primarily derived from the greater fool theory rather than intrinsic value\n",
            "2. No Productive Capacity: Unlike businesses that produce goods or services, there's no value creation\n",
            "3. No Cash Flow: The asset generates no cash flow or dividends\n",
            "4. Market Dependency: Value relies entirely on market sentiment and trading activity\n",
            "5. Limited Utility: Despite existing for several\n",
            "Speaking as a value investor in the tradition of Warren Buffett and Charlie Munger, I must express serious concerns about Shiba Inu Coin from a fundamental value perspective. Let me break this down using the core principles of value investing:\n",
            "\n",
            "1. Intrinsic Value Assessment:\n",
            "As Buffett often says, \"Price is what you pay, value is what you get.\" Looking at SHIB:\n",
            "- No tangible underlying assets\n",
            "- No cash flow generation\n",
            "- No productive capacity\n",
            "- Value primarily derived from speculation and market sentiment\n",
            "- No \"moat\" or sustainable competitive advantage\n",
            "\n",
            "2. Business Fundamentals:\n",
            "Current metrics from the news:\n",
            "- Market Cap: Approximately $14.16 billion\n",
            "- Limited real-world utility (only 933 merchants accept it)\n",
            "- No earnings or revenue in the traditional sense\n",
            "- No productive assets\n",
            "\n",
            "3. Margin of Safety (A key Buffett principle):\n",
            "There appears to be no margin of safety because:\n",
            "- Price is purely speculative\n",
            "- No underlying business operations to support valuation\n",
            "- No book value to fall back on\n",
            "- No earnings floor\n",
            "\n",
            "4. Competitive Analysis (Munger's emphasis on business quality):\n",
            "Major concerns:\n",
            "- Easily replicable (thousands of similar tokens exist)\n",
            "- No sustainable competitive advantage\n",
            "- No barriers to entry\n",
            "- No proprietary technology or unique value proposition\n",
            "\n",
            "5. Management and Capital Allocation:\n",
            "- No traditional management structure\n",
            "- No clear capital allocation strategy\n",
            "- No reinvestment of earnings (as there are no earnings)\n",
            "\n",
            "6. Recent Market Activity (though as value investors, we don't emphasize short-term movements):\n",
            "- 120% increase in 2024\n",
            "- Current trading around $0.000024\n",
            "- High volatility and speculation-driven price movements\n",
            "- Low trading volume ($40.48 million) suggesting thin market\n",
            "\n",
            "Key Red Flags (as Munger would point out):\n",
            "1. Speculation-Based Value: The asset's worth is primarily derived from the greater fool theory rather than intrinsic value\n",
            "2. No Productive Capacity: Unlike businesses that produce goods or services, there's no value creation\n",
            "3. No Cash Flow: The asset generates no cash flow or dividends\n",
            "4. Market Dependency: Value relies entirely on market sentiment and trading activity\n",
            "5. Limited Utility: Despite existing for several\n"
          ]
        }
      ]
    },
    {
      "cell_type": "markdown",
      "source": [
        "## Evaluate LLM Outputs (o3-mini vs. Claude Sonnet 3.5)"
      ],
      "metadata": {
        "id": "5435_zI6MX1r"
      }
    },
    {
      "cell_type": "code",
      "source": [
        "query= \"Create a valuation framework for SOLUSD (use a step-by-step logic to deduce a consistent method of valuing crypto) and present your results in a table format\"\n",
        "response = claude_crypto_agent.chat(query)\n",
        "print(str(response))"
      ],
      "metadata": {
        "colab": {
          "base_uri": "https://localhost:8080/"
        },
        "id": "0Wstf1rKCSaE",
        "outputId": "e1a1b7cc-59a4-492a-dfd1-c09268caa333"
      },
      "execution_count": null,
      "outputs": [
        {
          "output_type": "stream",
          "name": "stdout",
          "text": [
            "> Running step 0eb6f73e-04f3-4518-a023-87595fde373e. Step input: Create a valuation framework for SOLUSD (use a step-by-step logic to deduce a consistent method of valuing crypto) and present your results in a table format\n",
            "Added user message to memory: Create a valuation framework for SOLUSD (use a step-by-step logic to deduce a consistent method of valuing crypto) and present your results in a table format\n",
            "=== LLM Response ===\n",
            "I'll help create a valuation framework for SOL/USD using available data. Let me gather the current metrics first.\n",
            "=== Calling Function ===\n",
            "Calling function: get_crypto_data with args: {\"symbol\": \"SOLUSD\"}\n",
            "=== Function Output ===\n",
            "{'symbol': 'SOLUSD', 'name': 'Solana USD', 'price': 195.95, 'changes_percentage': 0.80974, 'change': 1.57395, 'day_low': 194.37605, 'day_high': 196.11, 'year_high': 294.33496, 'year_low': 98.58521, 'market_cap': 91343023977.0, 'moving_avg_50': 211.9817, 'moving_avg_200': 183.11371, 'volume': 2705406208.0, 'avg_volume': 6073631101.0, 'exchange': 'CRYPTO', 'open_price': 194.37605, 'previous_close': 194.37605, 'shares_outstanding': 466154753.650996, 'timestamp': Timestamp('2025-02-14 02:01:43')}\n",
            "> Running step fa94d33c-8763-4928-95ac-d9b14f9c7c22. Step input: None\n",
            "=== LLM Response ===\n",
            "Let me also check recent news that might affect the valuation:\n",
            "=== Calling Function ===\n",
            "Calling function: get_crypto_news with args: {\"symbol\": \"SOLUSD\"}\n",
            "=== Function Output ===\n",
            "{'news': [{'title': 'Deutsche Bank-Backed Taurus unveils Solana-based tokenization platform for institutional clients', 'date': '2025-02-13T23:15:27.000Z', 'source': 'cryptopolitan.com', 'url': 'https://www.cryptopolitan.com/taurus-unveils-solana-based-tokenization/', 'summary': \"Deutsche Bank, Germany's largest financial institution, has partnered with Swiss crypto company Taurus and launched a Solana-based TDX marketplace.\"}, {'title': 'Hyperliquid Defies the Crypto Downtrend – Could HYPE Overtake Solana?', 'date': '2025-02-13T23:13:56.000Z', 'source': 'cryptonews.com', 'url': 'https://cryptonews.com/news/hyperliquid-defies-the-crypto-downtrend-could-hype-overtake-solana/', 'summary': 'Major coins like Ethereum (ETH), Solana (SOL) and Sui (SUI) might be down sharply from recent highs, but Hyperliquid (HYPE) continues to defy the crypto downtrend as its ecosystem enjoys sharp growth. The post Hyperliquid Defies the Crypto Downtrend – Could HYPE Overtake Solana? appeared first on Cryptonews.'}, {'title': 'Doodles Shifts Strategy: Drops Big Brands, Plans to Launch DOOD Memecoin on Solana', 'date': '2025-02-13T23:10:52.000Z', 'source': 'coinspeaker.com', 'url': 'https://www.coinspeaker.com/doodles-shifts-strategy-drops-big-brands-plans-to-launch-dood-memecoin-on-solana/', 'summary': 'The Doodles NFT collection plans to launch a token DOOD that will be hosted on the Solana network.'}, {'title': \"Solana's BONK Price Holds Support While This Rival Altcoin Aims for a 44,000% Surge\", 'date': '2025-02-13T21:56:56.000Z', 'source': 'crypto-reporter.com', 'url': 'https://www.crypto-reporter.com/news/solanas-bonk-price-holds-support-while-this-rival-altcoin-aims-for-a-44000-surge-89897/', 'summary': \"Solana's BONK is demonstrating remarkable stability, holding its support amid ongoing market fluctuations. At the same time, whispers of a revolutionary rival altcoin are growing louder—one that is ambitiously targeting a 44,000% surge.\"}, {'title': 'Pumpfun deposited 148,759 SOL ($28.22M) to Kraken again, earning a cumulative total of $540.5M', 'date': '2025-02-13T20:00:28.000Z', 'source': 'cryptopolitan.com', 'url': 'https://www.cryptopolitan.com/pumpfun-deposited-148759-sol-28-22m/', 'summary': 'According to Lookonchain data, Pumpfun deposited an additional 148,759 Solana to Kraken today. The new deposit brought the total tokens deposited to the centralized exchange to 2,280,377, worth $462 million.'}]}\n",
            "> Running step f236eead-4ff3-4ed1-a402-7045d57295ff. Step input: None\n",
            "=== LLM Response ===\n",
            "Based on the current market data and recent developments, I'll create a comprehensive valuation framework for SOL/USD. Here's the step-by-step analysis:\n",
            "\n",
            "**Current SOL/USD Valuation Framework**\n",
            "\n",
            "| Component | Current Metrics | Analysis | Impact on Valuation |\n",
            "|-----------|----------------|-----------|-------------------|\n",
            "| **1. Market Performance** | - Price: $195.95 <br> - Market Cap: $91.34B <br> - 24h Volume: $2.71B | - Trading at 92.5% of 52-week high ($294.33) <br> - Volume/Market Cap ratio: 2.96% | Strong market position with healthy trading volume |\n",
            "| **2. Technical Indicators** | - 50-day MA: $211.98 <br> - 200-day MA: $183.11 <br> - Current vs MAs: Below 50MA, Above 200MA | - Currently in golden cross position <br> - Shows long-term uptrend <br> - Short-term consolidation | Technically sound with bullish long-term setup |\n",
            "| **3. Network Metrics** | - Market Cap/TVL Ratio <br> - Daily Active Users <br> - Transaction Volume | - High institutional adoption (Deutsche Bank partnership) <br> - Growing ecosystem (new projects like DOOD) | Strong network effects and institutional backing |\n",
            "| **4. Liquidity Analysis** | - Avg Volume: $6.07B <br> - Current Volume: $2.71B <br> - Volume Ratio: 44.5% | - Lower than average volume indicates consolidation <br> - Still maintains significant liquidity | Adequate liquidity for institutional players |\n",
            "| **5. Relative Valuation** | - YTD Performance <br> - Competitor Comparison <br> - Market Share | - Trading well above yearly low ($98.59) <br> - Maintaining competitive position against rivals | Premium valuation justified by ecosystem growth |\n",
            "\n",
            "**Valuation Multipliers:**\n",
            "\n",
            "1. **Network Value Multiple (NVM)**\n",
            "```\n",
            "NVM = Market Cap / Daily Active Users\n",
            "Current Market Cap: $91.34B\n",
            "```\n",
            "\n",
            "2. **Liquidity Premium (LP)**\n",
            "```\n",
            "LP =\n",
            "Based on the current market data and recent developments, I'll create a comprehensive valuation framework for SOL/USD. Here's the step-by-step analysis:\n",
            "\n",
            "**Current SOL/USD Valuation Framework**\n",
            "\n",
            "| Component | Current Metrics | Analysis | Impact on Valuation |\n",
            "|-----------|----------------|-----------|-------------------|\n",
            "| **1. Market Performance** | - Price: $195.95 <br> - Market Cap: $91.34B <br> - 24h Volume: $2.71B | - Trading at 92.5% of 52-week high ($294.33) <br> - Volume/Market Cap ratio: 2.96% | Strong market position with healthy trading volume |\n",
            "| **2. Technical Indicators** | - 50-day MA: $211.98 <br> - 200-day MA: $183.11 <br> - Current vs MAs: Below 50MA, Above 200MA | - Currently in golden cross position <br> - Shows long-term uptrend <br> - Short-term consolidation | Technically sound with bullish long-term setup |\n",
            "| **3. Network Metrics** | - Market Cap/TVL Ratio <br> - Daily Active Users <br> - Transaction Volume | - High institutional adoption (Deutsche Bank partnership) <br> - Growing ecosystem (new projects like DOOD) | Strong network effects and institutional backing |\n",
            "| **4. Liquidity Analysis** | - Avg Volume: $6.07B <br> - Current Volume: $2.71B <br> - Volume Ratio: 44.5% | - Lower than average volume indicates consolidation <br> - Still maintains significant liquidity | Adequate liquidity for institutional players |\n",
            "| **5. Relative Valuation** | - YTD Performance <br> - Competitor Comparison <br> - Market Share | - Trading well above yearly low ($98.59) <br> - Maintaining competitive position against rivals | Premium valuation justified by ecosystem growth |\n",
            "\n",
            "**Valuation Multipliers:**\n",
            "\n",
            "1. **Network Value Multiple (NVM)**\n",
            "```\n",
            "NVM = Market Cap / Daily Active Users\n",
            "Current Market Cap: $91.34B\n",
            "```\n",
            "\n",
            "2. **Liquidity Premium (LP)**\n",
            "```\n",
            "LP =\n"
          ]
        }
      ]
    },
    {
      "cell_type": "code",
      "source": [
        "query= \"Create a valuation framework for SOLUSD (use a step-by-step logic to deduce a consistent method of valuing crypto) and present your results in a table format\"\n",
        "response = oai_crypto_agent.chat(query)\n",
        "print(str(response))"
      ],
      "metadata": {
        "id": "4DzhcOXy4Fg7",
        "colab": {
          "base_uri": "https://localhost:8080/"
        },
        "outputId": "a015c4f9-9fde-4cc4-afd4-463cde553f56"
      },
      "execution_count": null,
      "outputs": [
        {
          "output_type": "stream",
          "name": "stdout",
          "text": [
            "> Running step e174203e-6c34-40f3-a8b6-4d9265b79412. Step input: Create a valuation framework for SOLUSD (use a step-by-step logic to deduce a consistent method of valuing crypto) and present your results in a table format\n",
            "Added user message to memory: Create a valuation framework for SOLUSD (use a step-by-step logic to deduce a consistent method of valuing crypto) and present your results in a table format\n",
            "=== LLM Response ===\n",
            "I'll help create a valuation framework for Solana (SOL) by first gathering the current data and then developing a structured approach.\n",
            "=== Calling Function ===\n",
            "Calling function: get_crypto_data with args: {\"symbol\": \"SOLUSD\"}\n",
            "=== Function Output ===\n",
            "{'symbol': 'SOLUSD', 'name': 'Solana USD', 'price': 195.7467, 'changes_percentage': 0.70515, 'change': 1.37065, 'day_low': 194.37605, 'day_high': 196.11, 'year_high': 294.33496, 'year_low': 98.58521, 'market_cap': 91248254716.0, 'moving_avg_50': 211.9817, 'moving_avg_200': 183.11371, 'volume': 2695214080.0, 'avg_volume': 6073631101.0, 'exchange': 'CRYPTO', 'open_price': 194.37605, 'previous_close': 194.37605, 'shares_outstanding': 466154753.650996, 'timestamp': Timestamp('2025-02-14 02:03:18')}\n",
            "> Running step 8c02b979-e3f0-4af6-a5db-a50722fb5f38. Step input: None\n",
            "=== LLM Response ===\n",
            "Let me also check recent news for additional context:\n",
            "=== Calling Function ===\n",
            "Calling function: get_crypto_news with args: {\"symbol\": \"SOLUSD\"}\n",
            "=== Function Output ===\n",
            "{'news': [{'title': 'Deutsche Bank-Backed Taurus unveils Solana-based tokenization platform for institutional clients', 'date': '2025-02-13T23:15:27.000Z', 'source': 'cryptopolitan.com', 'url': 'https://www.cryptopolitan.com/taurus-unveils-solana-based-tokenization/', 'summary': \"Deutsche Bank, Germany's largest financial institution, has partnered with Swiss crypto company Taurus and launched a Solana-based TDX marketplace.\"}, {'title': 'Hyperliquid Defies the Crypto Downtrend – Could HYPE Overtake Solana?', 'date': '2025-02-13T23:13:56.000Z', 'source': 'cryptonews.com', 'url': 'https://cryptonews.com/news/hyperliquid-defies-the-crypto-downtrend-could-hype-overtake-solana/', 'summary': 'Major coins like Ethereum (ETH), Solana (SOL) and Sui (SUI) might be down sharply from recent highs, but Hyperliquid (HYPE) continues to defy the crypto downtrend as its ecosystem enjoys sharp growth. The post Hyperliquid Defies the Crypto Downtrend – Could HYPE Overtake Solana? appeared first on Cryptonews.'}, {'title': 'Doodles Shifts Strategy: Drops Big Brands, Plans to Launch DOOD Memecoin on Solana', 'date': '2025-02-13T23:10:52.000Z', 'source': 'coinspeaker.com', 'url': 'https://www.coinspeaker.com/doodles-shifts-strategy-drops-big-brands-plans-to-launch-dood-memecoin-on-solana/', 'summary': 'The Doodles NFT collection plans to launch a token DOOD that will be hosted on the Solana network.'}, {'title': \"Solana's BONK Price Holds Support While This Rival Altcoin Aims for a 44,000% Surge\", 'date': '2025-02-13T21:56:56.000Z', 'source': 'crypto-reporter.com', 'url': 'https://www.crypto-reporter.com/news/solanas-bonk-price-holds-support-while-this-rival-altcoin-aims-for-a-44000-surge-89897/', 'summary': \"Solana's BONK is demonstrating remarkable stability, holding its support amid ongoing market fluctuations. At the same time, whispers of a revolutionary rival altcoin are growing louder—one that is ambitiously targeting a 44,000% surge.\"}, {'title': 'Pumpfun deposited 148,759 SOL ($28.22M) to Kraken again, earning a cumulative total of $540.5M', 'date': '2025-02-13T20:00:28.000Z', 'source': 'cryptopolitan.com', 'url': 'https://www.cryptopolitan.com/pumpfun-deposited-148759-sol-28-22m/', 'summary': 'According to Lookonchain data, Pumpfun deposited an additional 148,759 Solana to Kraken today. The new deposit brought the total tokens deposited to the centralized exchange to 2,280,377, worth $462 million.'}]}\n",
            "> Running step 812120bf-e1a8-4a17-a501-fbf939c40d78. Step input: None\n",
            "=== LLM Response ===\n",
            "Based on the data, I'll create a comprehensive valuation framework for Solana. Here's a step-by-step approach that combines multiple valuation methods:\n",
            "\n",
            "| Valuation Framework for Solana (SOL) |                                                                |\n",
            "|--------------------------------------|----------------------------------------------------------------|\n",
            "| **1. Network Value Metrics**         | **Current Values** |\n",
            "| Market Cap                           | $91.25B |\n",
            "| Network Value/Transaction Volume     | 33.85 (Daily Market Cap/Volume Ratio) |\n",
            "| Active Addresses Multiple            | ~$4,500 per active address* |\n",
            "\n",
            "| **2. Technical Indicators**          | **Values** |\n",
            "|--------------------------------------|------------|\n",
            "| 50-day Moving Average                | $211.98 |\n",
            "| 200-day Moving Average              | $183.11 |\n",
            "| Current Price                        | $195.75 |\n",
            "| Technical Position                   | Above 200MA, Below 50MA |\n",
            "\n",
            "| **3. Adoption Metrics**              | **Status** |\n",
            "|--------------------------------------|------------|\n",
            "| Institutional Integration            | High (Deutsche Bank partnership) |\n",
            "| Developer Activity                   | Strong (Multiple new projects) |\n",
            "| Network Growth                       | Positive (New tokenization platforms) |\n",
            "\n",
            "| **4. Comparative Valuation**         | **Metrics** |\n",
            "|--------------------------------------|------------|\n",
            "| Market Share in L1 Segment           | ~15% of L1 market* |\n",
            "| TVL Ratio                            | ~0.25 (Total Value Locked/Market Cap)* |\n",
            "| Transaction Cost Efficiency          | High (Sub-cent transactions) |\n",
            "\n",
            "| **5. Growth Potential Factors**      | **Impact** |\n",
            "|--------------------------------------|------------|\n",
            "| Institutional Adoption               | Strong Positive |\n",
            "| DeFi/NFT Ecosystem                   | Strong Positive |\n",
            "| Memecoin Activity                    | Moderate Positive |\n",
            "\n",
            "| **6. Risk Factors**                  | **Level** |\n",
            "|--------------------------------------|------------|\n",
            "| Network Centralization               | Moderate |\n",
            "| Competition from Other L1s           | High |\n",
            "| Market Volatility                    | High |\n",
            "\n",
            "| **7. Valuation Ranges**              |\n",
            "Based on the data, I'll create a comprehensive valuation framework for Solana. Here's a step-by-step approach that combines multiple valuation methods:\n",
            "\n",
            "| Valuation Framework for Solana (SOL) |                                                                |\n",
            "|--------------------------------------|----------------------------------------------------------------|\n",
            "| **1. Network Value Metrics**         | **Current Values** |\n",
            "| Market Cap                           | $91.25B |\n",
            "| Network Value/Transaction Volume     | 33.85 (Daily Market Cap/Volume Ratio) |\n",
            "| Active Addresses Multiple            | ~$4,500 per active address* |\n",
            "\n",
            "| **2. Technical Indicators**          | **Values** |\n",
            "|--------------------------------------|------------|\n",
            "| 50-day Moving Average                | $211.98 |\n",
            "| 200-day Moving Average              | $183.11 |\n",
            "| Current Price                        | $195.75 |\n",
            "| Technical Position                   | Above 200MA, Below 50MA |\n",
            "\n",
            "| **3. Adoption Metrics**              | **Status** |\n",
            "|--------------------------------------|------------|\n",
            "| Institutional Integration            | High (Deutsche Bank partnership) |\n",
            "| Developer Activity                   | Strong (Multiple new projects) |\n",
            "| Network Growth                       | Positive (New tokenization platforms) |\n",
            "\n",
            "| **4. Comparative Valuation**         | **Metrics** |\n",
            "|--------------------------------------|------------|\n",
            "| Market Share in L1 Segment           | ~15% of L1 market* |\n",
            "| TVL Ratio                            | ~0.25 (Total Value Locked/Market Cap)* |\n",
            "| Transaction Cost Efficiency          | High (Sub-cent transactions) |\n",
            "\n",
            "| **5. Growth Potential Factors**      | **Impact** |\n",
            "|--------------------------------------|------------|\n",
            "| Institutional Adoption               | Strong Positive |\n",
            "| DeFi/NFT Ecosystem                   | Strong Positive |\n",
            "| Memecoin Activity                    | Moderate Positive |\n",
            "\n",
            "| **6. Risk Factors**                  | **Level** |\n",
            "|--------------------------------------|------------|\n",
            "| Network Centralization               | Moderate |\n",
            "| Competition from Other L1s           | High |\n",
            "| Market Volatility                    | High |\n",
            "\n",
            "| **7. Valuation Ranges**              |\n"
          ]
        }
      ]
    },
    {
      "cell_type": "markdown",
      "source": [
        "## Simple Eval Framework"
      ],
      "metadata": {
        "id": "c05k99PVStmP"
      }
    },
    {
      "cell_type": "code",
      "source": [
        "import time\n",
        "from difflib import SequenceMatcher\n",
        "import pandas as pd\n",
        "\n",
        "# Example list of test queries.\n",
        "# For some queries, an \"expected\" answer is provided (if available) for accuracy evaluation.\n",
        "test_queries = [\n",
        "    {\n",
        "        \"query\": \"Provide a concise financial risk analysis for Solana (SOLUSD) based on market metrics.\",\n",
        "        \"expected\": \"Expected risk analysis details...\"\n",
        "    }\n",
        "]\n",
        "\n",
        "# Simulated agents – in your code these would be your actual LLM agent interfaces.\n",
        "# For demonstration, we define stubs that return a dummy response.\n",
        "def create_crypto_agent(llm):\n",
        "    \"\"\"\n",
        "    Create a comprehensive crypto analysis agent with all available tools.\n",
        "    \"\"\"\n",
        "    agent = FunctionCallingAgent.from_tools(\n",
        "        list(tools.values()),\n",
        "        llm=llm,\n",
        "        verbose=True,\n",
        "        allow_parallel_tool_calls=False,\n",
        "    )\n",
        "    return agent\n",
        "\n",
        "# Assume anthropic_llm and openai_llm, as well as 'tools' and FunctionCallingAgent are defined.\n",
        "claude_agent = create_crypto_agent(anthropic_llm)\n",
        "openai_agent = create_crypto_agent(openai_llm)\n",
        "\n",
        "def send_query(agent, query):\n",
        "    \"\"\"Send the query to the agent and measure latency.\"\"\"\n",
        "    start_time = time.time()\n",
        "    response = agent.chat(query)\n",
        "    latency = time.time() - start_time\n",
        "    return response, latency\n",
        "\n",
        "def evaluate_accuracy(response, expected):\n",
        "    \"\"\"\n",
        "    Compute a similarity score between the LLM response and the expected output.\n",
        "    Returns a ratio between 0 (no match) and 1 (perfect match).\n",
        "    \"\"\"\n",
        "    return SequenceMatcher(None, response, expected).ratio()\n",
        "\n",
        "def evaluate_response_quality(response):\n",
        "    \"\"\"\n",
        "    Evaluate quality based on simple heuristics.\n",
        "    For example, check if the response is structured (contains a table-like format)\n",
        "    and includes numerical data.\n",
        "    Returns a quality score between 0 and 1.\n",
        "    \"\"\"\n",
        "    response_str = str(response)  # ensure we have a string\n",
        "    score = 0.0\n",
        "    # Check for table formatting (e.g. pipe '|' characters or \"table\" keyword).\n",
        "    if \"|\" in response_str or \"table\" in response_str.lower():\n",
        "        score += 0.5\n",
        "    # Check for presence of numeric values (financial figures).\n",
        "    if any(char.isdigit() for char in response_str):\n",
        "        score += 0.5\n",
        "    return score\n",
        "\n",
        "def evaluate_data_handling(response):\n",
        "    \"\"\"\n",
        "    Evaluate data handling by checking for error indicators or format issues.\n",
        "    Returns 1 if the response appears to properly handle data, 0 otherwise.\n",
        "    \"\"\"\n",
        "    response_str = str(response)\n",
        "    return 0 if \"error\" in response_str.lower() or \"exception\" in response_str.lower() else 1\n",
        "\n",
        "# Container to store results for each query and each agent.\n",
        "evaluation_results = {}\n",
        "\n",
        "for test in test_queries:\n",
        "    query_text = test[\"query\"]\n",
        "    expected = test.get(\"expected\")  # may be None if no expected answer is provided\n",
        "    evaluation_results[query_text] = {}\n",
        "\n",
        "    for agent_name, agent in [(\"Claude\", claude_agent), (\"OpenAI\", openai_agent)]:\n",
        "        response, latency = send_query(agent, query_text)\n",
        "        # Convert response to string once for all evaluations.\n",
        "        response_str = str(response)\n",
        "        accuracy = evaluate_accuracy(response_str, expected) if expected else None\n",
        "        quality = evaluate_response_quality(response_str)\n",
        "        data_handling = evaluate_data_handling(response_str)\n",
        "\n",
        "        evaluation_results[query_text][agent_name] = {\n",
        "            \"response\": response_str,\n",
        "            \"latency_sec\": latency,\n",
        "            \"accuracy\": accuracy,\n",
        "            \"quality\": quality,\n",
        "            \"data_handling\": data_handling\n",
        "        }\n",
        "\n",
        "# Package the evaluation results into a variable for later use.\n",
        "evaluation_report = evaluation_results"
      ],
      "metadata": {
        "colab": {
          "base_uri": "https://localhost:8080/"
        },
        "id": "YB-XcN5VRD3-",
        "outputId": "56a984dd-1494-4aa1-cb7a-3d920db20e27"
      },
      "execution_count": 23,
      "outputs": [
        {
          "output_type": "stream",
          "name": "stdout",
          "text": [
            "> Running step 7d70f642-73dc-4908-b845-e1b81e30c3cd. Step input: Provide a concise financial risk analysis for Solana (SOLUSD) based on market metrics.\n",
            "Added user message to memory: Provide a concise financial risk analysis for Solana (SOLUSD) based on market metrics.\n",
            "=== LLM Response ===\n",
            "I'll help you analyze Solana's financial risk profile using market data. Let me fetch the current metrics.\n",
            "=== Calling Function ===\n",
            "Calling function: get_crypto_data with args: {\"symbol\": \"SOLUSD\"}\n",
            "=== Function Output ===\n",
            "{'symbol': 'SOLUSD', 'name': 'Solana USD', 'price': 183.7, 'changes_percentage': -2.52383, 'change': -4.75631, 'day_low': 181.11913, 'day_high': 189.45515, 'year_high': 294.33496, 'year_low': 98.58521, 'market_cap': 85632628245.0, 'moving_avg_50': 212.23822, 'moving_avg_200': 183.40755, 'volume': 3303880448.0, 'avg_volume': 5871799404.0, 'exchange': 'CRYPTO', 'open_price': 188.45631, 'previous_close': 188.45631, 'shares_outstanding': 466154753.650996, 'timestamp': Timestamp('2025-02-17 14:55:03')}\n",
            "> Running step dae712cd-0a84-426e-8b64-fcbc4adf6775. Step input: None\n",
            "=== LLM Response ===\n",
            "Based on the market data, here's a concise risk analysis for Solana (SOL):\n",
            "\n",
            "Volatility Risk:\n",
            "- Current price ($183.70) is showing significant daily volatility with a -2.52% change\n",
            "- Wide daily trading range: $181.12 (low) to $189.46 (high)\n",
            "- Trading well below its 50-day moving average ($212.24), indicating recent bearish pressure\n",
            "\n",
            "Market Position:\n",
            "- Strong market cap of $85.63B suggests good liquidity and stability\n",
            "- Current volume ($3.30B) is below average volume ($5.87B), indicating potentially reduced liquidity\n",
            "- Trading at 62.4% of its yearly high ($294.33), with support at yearly low of $98.59\n",
            "\n",
            "Key Risk Indicators:\n",
            "1. Technical Position: Price is near the 200-day moving average ($183.41), suggesting a critical support/resistance level\n",
            "2. Liquidity Risk: Below-average volume could lead to increased price volatility\n",
            "3. Market Sentiment: Currently in a short-term downtrend based on price action and moving averages\n",
            "\n",
            "Overall Risk Assessment:\n",
            "Moderate risk level with mixed signals - strong market fundamentals but showing technical weakness and reduced trading activity. Investors should monitor volume and price action around the 200-day moving average for potential trend confirmation.\n",
            "> Running step f7d80373-8c6f-4981-9403-8122abb6db0a. Step input: Provide a concise financial risk analysis for Solana (SOLUSD) based on market metrics.\n",
            "Added user message to memory: Provide a concise financial risk analysis for Solana (SOLUSD) based on market metrics.\n",
            "=== Calling Function ===\n",
            "Calling function: get_crypto_data with args: {\"symbol\": \"SOLUSD\"}\n",
            "=== Function Output ===\n",
            "{'symbol': 'SOLUSD', 'name': 'Solana USD', 'price': 183.75, 'changes_percentage': -2.49729, 'change': -4.70631, 'day_low': 181.11913, 'day_high': 189.45515, 'year_high': 294.33496, 'year_low': 98.58521, 'market_cap': 85655935983.0, 'moving_avg_50': 212.23822, 'moving_avg_200': 183.40755, 'volume': 3303880448.0, 'avg_volume': 5871799404.0, 'exchange': 'CRYPTO', 'open_price': 188.45631, 'previous_close': 188.45631, 'shares_outstanding': 466154753.650996, 'timestamp': Timestamp('2025-02-17 14:55:12')}\n",
            "> Running step 58a3f179-1296-47f6-b5dd-426c81ec86b7. Step input: None\n",
            "=== LLM Response ===\n",
            "Based on the latest market metrics for Solana (SOLUSD), here is a concise risk analysis:\n",
            "\n",
            "1. Volatility and Price Performance:  \n",
            "   • The current price stands at approximately 183.75 USD, with an intraday decline of about 2.5%. This day-to-day fluctuation emphasizes inherent crypto market volatility.  \n",
            "   • When compared to its 50-day moving average (212.24 USD), Solana is trading at a discount, suggesting potential short-term negative momentum. However, the price is near its 200-day moving average (183.41 USD), which could indicate a level of support and a base for medium-term stability.\n",
            "\n",
            "2. Historical Range:  \n",
            "   • The annual range for Solana has been wide—with a low around 98.59 USD and a high near 294.33 USD—highlighting considerable long-term price swings. This broad range is a reminder of the high risk-return profile typical in the crypto space.\n",
            "\n",
            "3. Liquidity and Trading Volume:  \n",
            "   • Daily trading volume at around 3.3 billion USD is robust, yet it is below the average daily volume of roughly 5.87 billion USD. This gap suggests some temporary liquidity constraints, which can amplify price movements during turbulent periods.\n",
            "\n",
            "4. Market Capitalization Consideration:  \n",
            "   • With a market cap of approximately 85.66 billion USD, Solana is a major player in the crypto ecosystem. While a larger market cap can often mean greater market stability, it does not fully insulate the asset from the broader market volatility and regulatory risks prevalent in the space.\n",
            "\n",
            "In summary, Solana exhibits the typical high-volatility profile of cryptocurrencies. The short-term technical indicators suggest caution (given its current discount relative to the 50-day average and recent negative performance), while its position around the 200-day moving average may offer some medium-term support. Investors should remain aware of liquidity nuances and the broader systemic risks associated with the crypto market when considering exposure to SOL.\n"
          ]
        }
      ]
    },
    {
      "cell_type": "code",
      "source": [
        "# (Optional) Print the raw report to the console.\n",
        "for query, agents in evaluation_report.items():\n",
        "    print(f\"\\nQuery: {query}\")\n",
        "    for agent, metrics in agents.items():\n",
        "        print(f\"--- {agent} ---\")\n",
        "        print(f\"Response: {metrics['response']}\")\n",
        "        print(f\"Latency: {metrics['latency_sec']*1000:.2f} ms\")\n",
        "        if metrics['accuracy'] is not None:\n",
        "            print(f\"Accuracy: {metrics['accuracy']*100:.1f}%\")\n",
        "        print(f\"Response Quality Score: {metrics['quality']:.2f}\")\n",
        "        print(f\"Data Handling Score: {metrics['data_handling']}\")\n"
      ],
      "metadata": {
        "colab": {
          "base_uri": "https://localhost:8080/"
        },
        "id": "l0CeMVemR-SG",
        "outputId": "9a8e1d06-4e5f-4885-88be-4d01a4ca88ea"
      },
      "execution_count": 24,
      "outputs": [
        {
          "output_type": "stream",
          "name": "stdout",
          "text": [
            "\n",
            "Query: Provide a concise financial risk analysis for Solana (SOLUSD) based on market metrics.\n",
            "--- Claude ---\n",
            "Response: Based on the market data, here's a concise risk analysis for Solana (SOL):\n",
            "\n",
            "Volatility Risk:\n",
            "- Current price ($183.70) is showing significant daily volatility with a -2.52% change\n",
            "- Wide daily trading range: $181.12 (low) to $189.46 (high)\n",
            "- Trading well below its 50-day moving average ($212.24), indicating recent bearish pressure\n",
            "\n",
            "Market Position:\n",
            "- Strong market cap of $85.63B suggests good liquidity and stability\n",
            "- Current volume ($3.30B) is below average volume ($5.87B), indicating potentially reduced liquidity\n",
            "- Trading at 62.4% of its yearly high ($294.33), with support at yearly low of $98.59\n",
            "\n",
            "Key Risk Indicators:\n",
            "1. Technical Position: Price is near the 200-day moving average ($183.41), suggesting a critical support/resistance level\n",
            "2. Liquidity Risk: Below-average volume could lead to increased price volatility\n",
            "3. Market Sentiment: Currently in a short-term downtrend based on price action and moving averages\n",
            "\n",
            "Overall Risk Assessment:\n",
            "Moderate risk level with mixed signals - strong market fundamentals but showing technical weakness and reduced trading activity. Investors should monitor volume and price action around the 200-day moving average for potential trend confirmation.\n",
            "Latency: 13035.79 ms\n",
            "Accuracy: 3.9%\n",
            "Response Quality Score: 0.50\n",
            "Data Handling Score: 1\n",
            "--- OpenAI ---\n",
            "Response: Based on the latest market metrics for Solana (SOLUSD), here is a concise risk analysis:\n",
            "\n",
            "1. Volatility and Price Performance:  \n",
            "   • The current price stands at approximately 183.75 USD, with an intraday decline of about 2.5%. This day-to-day fluctuation emphasizes inherent crypto market volatility.  \n",
            "   • When compared to its 50-day moving average (212.24 USD), Solana is trading at a discount, suggesting potential short-term negative momentum. However, the price is near its 200-day moving average (183.41 USD), which could indicate a level of support and a base for medium-term stability.\n",
            "\n",
            "2. Historical Range:  \n",
            "   • The annual range for Solana has been wide—with a low around 98.59 USD and a high near 294.33 USD—highlighting considerable long-term price swings. This broad range is a reminder of the high risk-return profile typical in the crypto space.\n",
            "\n",
            "3. Liquidity and Trading Volume:  \n",
            "   • Daily trading volume at around 3.3 billion USD is robust, yet it is below the average daily volume of roughly 5.87 billion USD. This gap suggests some temporary liquidity constraints, which can amplify price movements during turbulent periods.\n",
            "\n",
            "4. Market Capitalization Consideration:  \n",
            "   • With a market cap of approximately 85.66 billion USD, Solana is a major player in the crypto ecosystem. While a larger market cap can often mean greater market stability, it does not fully insulate the asset from the broader market volatility and regulatory risks prevalent in the space.\n",
            "\n",
            "In summary, Solana exhibits the typical high-volatility profile of cryptocurrencies. The short-term technical indicators suggest caution (given its current discount relative to the 50-day average and recent negative performance), while its position around the 200-day moving average may offer some medium-term support. Investors should remain aware of liquidity nuances and the broader systemic risks associated with the crypto market when considering exposure to SOL.\n",
            "Latency: 12910.10 ms\n",
            "Accuracy: 2.7%\n",
            "Response Quality Score: 0.50\n",
            "Data Handling Score: 1\n"
          ]
        }
      ]
    },
    {
      "cell_type": "code",
      "source": [],
      "metadata": {
        "id": "HlTowhhISEhU"
      },
      "execution_count": null,
      "outputs": []
    }
  ]
}